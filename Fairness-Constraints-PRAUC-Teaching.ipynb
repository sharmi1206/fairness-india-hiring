{
 "cells": [
  {
   "cell_type": "markdown",
   "metadata": {
    "colab_type": "text",
    "id": "i4vFDhvn_Bdn"
   },
   "source": [
    "##### Copyright 2018 The TensorFlow Constrained Optimization Authors. All Rights Reserved.\n",
    "\n",
    "Licensed under the Apache License, Version 2.0 (the \"License\"); you may not use this file except in compliance with the License. You may obtain a copy of the License at\n",
    "\n",
    "> http://www.apache.org/licenses/LICENSE-2.0\n",
    "\n",
    "Unless required by applicable law or agreed to in writing, software distributed under the License is distributed on an \"AS IS\" BASIS, WITHOUT WARRANTIES OR CONDITIONS OF ANY KIND, either express or implied. See the License for the specific language governing permissions and limitations under the License."
   ]
  },
  {
   "cell_type": "markdown",
   "metadata": {
    "colab_type": "text",
    "id": "RpUmH2nk_Bdo"
   },
   "source": [
    "## PR-AUC , ROC-AUC, Precision at Recall, Recall at Precision Maximization\n",
    "In this colab, we'll show how to use the TF Constrained Optimization (TFCO) library to train a model to maximize the *Area Under the Precision-Recall Curve (PR-AUC)*. We'll show how to train the model both with (i) plain TensorFlow (in eager mode), and (ii) with a custom tf.Estimator.\n",
    "\n",
    "We start by importing the relevant modules."
   ]
  },
  {
   "cell_type": "code",
   "execution_count": 9,
   "metadata": {},
   "outputs": [
    {
     "name": "stdout",
     "output_type": "stream",
     "text": [
      "Collecting tensorflow-constrained-optimization\n",
      "  Using cached tensorflow_constrained_optimization-0.2-py2.py3-none-any.whl (143 kB)\n",
      "Requirement already satisfied: six in /opt/anaconda3/lib/python3.7/site-packages (from tensorflow-constrained-optimization) (1.15.0)\n",
      "Requirement already satisfied: scipy in /opt/anaconda3/lib/python3.7/site-packages (from tensorflow-constrained-optimization) (1.5.0)\n",
      "Requirement already satisfied: numpy in /opt/anaconda3/lib/python3.7/site-packages (from tensorflow-constrained-optimization) (1.18.5)\n",
      "Requirement already satisfied: tensorflow>=1.14 in /opt/anaconda3/lib/python3.7/site-packages (from tensorflow-constrained-optimization) (2.3.1)\n",
      "Requirement already satisfied: tensorboard<3,>=2.3.0 in /opt/anaconda3/lib/python3.7/site-packages (from tensorflow>=1.14->tensorflow-constrained-optimization) (2.3.0)\n",
      "Requirement already satisfied: grpcio>=1.8.6 in /opt/anaconda3/lib/python3.7/site-packages (from tensorflow>=1.14->tensorflow-constrained-optimization) (1.32.0)\n",
      "Requirement already satisfied: gast==0.3.3 in /opt/anaconda3/lib/python3.7/site-packages (from tensorflow>=1.14->tensorflow-constrained-optimization) (0.3.3)\n",
      "Requirement already satisfied: protobuf>=3.9.2 in /opt/anaconda3/lib/python3.7/site-packages (from tensorflow>=1.14->tensorflow-constrained-optimization) (3.13.0)\n",
      "Requirement already satisfied: wheel>=0.26 in /opt/anaconda3/lib/python3.7/site-packages (from tensorflow>=1.14->tensorflow-constrained-optimization) (0.34.2)\n",
      "Requirement already satisfied: opt-einsum>=2.3.2 in /opt/anaconda3/lib/python3.7/site-packages (from tensorflow>=1.14->tensorflow-constrained-optimization) (3.3.0)\n",
      "Requirement already satisfied: tensorflow-estimator<2.4.0,>=2.3.0 in /opt/anaconda3/lib/python3.7/site-packages (from tensorflow>=1.14->tensorflow-constrained-optimization) (2.3.0)\n",
      "Requirement already satisfied: absl-py>=0.7.0 in /opt/anaconda3/lib/python3.7/site-packages (from tensorflow>=1.14->tensorflow-constrained-optimization) (0.10.0)\n",
      "Requirement already satisfied: keras-preprocessing<1.2,>=1.1.1 in /opt/anaconda3/lib/python3.7/site-packages (from tensorflow>=1.14->tensorflow-constrained-optimization) (1.1.2)\n",
      "Requirement already satisfied: h5py<2.11.0,>=2.10.0 in /opt/anaconda3/lib/python3.7/site-packages (from tensorflow>=1.14->tensorflow-constrained-optimization) (2.10.0)\n",
      "Requirement already satisfied: termcolor>=1.1.0 in /opt/anaconda3/lib/python3.7/site-packages (from tensorflow>=1.14->tensorflow-constrained-optimization) (1.1.0)\n",
      "Requirement already satisfied: google-pasta>=0.1.8 in /opt/anaconda3/lib/python3.7/site-packages (from tensorflow>=1.14->tensorflow-constrained-optimization) (0.2.0)\n",
      "Requirement already satisfied: astunparse==1.6.3 in /opt/anaconda3/lib/python3.7/site-packages (from tensorflow>=1.14->tensorflow-constrained-optimization) (1.6.3)\n",
      "Requirement already satisfied: wrapt>=1.11.1 in /opt/anaconda3/lib/python3.7/site-packages (from tensorflow>=1.14->tensorflow-constrained-optimization) (1.11.2)\n",
      "Requirement already satisfied: werkzeug>=0.11.15 in /opt/anaconda3/lib/python3.7/site-packages (from tensorboard<3,>=2.3.0->tensorflow>=1.14->tensorflow-constrained-optimization) (1.0.1)\n",
      "Requirement already satisfied: google-auth-oauthlib<0.5,>=0.4.1 in /opt/anaconda3/lib/python3.7/site-packages (from tensorboard<3,>=2.3.0->tensorflow>=1.14->tensorflow-constrained-optimization) (0.4.1)\n",
      "Requirement already satisfied: requests<3,>=2.21.0 in /opt/anaconda3/lib/python3.7/site-packages (from tensorboard<3,>=2.3.0->tensorflow>=1.14->tensorflow-constrained-optimization) (2.24.0)\n",
      "Requirement already satisfied: google-auth<2,>=1.6.3 in /opt/anaconda3/lib/python3.7/site-packages (from tensorboard<3,>=2.3.0->tensorflow>=1.14->tensorflow-constrained-optimization) (1.22.1)\n",
      "Requirement already satisfied: tensorboard-plugin-wit>=1.6.0 in /opt/anaconda3/lib/python3.7/site-packages (from tensorboard<3,>=2.3.0->tensorflow>=1.14->tensorflow-constrained-optimization) (1.7.0)\n",
      "Requirement already satisfied: setuptools>=41.0.0 in /opt/anaconda3/lib/python3.7/site-packages (from tensorboard<3,>=2.3.0->tensorflow>=1.14->tensorflow-constrained-optimization) (49.2.0.post20200714)\n",
      "Requirement already satisfied: markdown>=2.6.8 in /opt/anaconda3/lib/python3.7/site-packages (from tensorboard<3,>=2.3.0->tensorflow>=1.14->tensorflow-constrained-optimization) (3.3)\n",
      "Requirement already satisfied: requests-oauthlib>=0.7.0 in /opt/anaconda3/lib/python3.7/site-packages (from google-auth-oauthlib<0.5,>=0.4.1->tensorboard<3,>=2.3.0->tensorflow>=1.14->tensorflow-constrained-optimization) (1.3.0)\n",
      "Requirement already satisfied: chardet<4,>=3.0.2 in /opt/anaconda3/lib/python3.7/site-packages (from requests<3,>=2.21.0->tensorboard<3,>=2.3.0->tensorflow>=1.14->tensorflow-constrained-optimization) (3.0.4)\n",
      "Requirement already satisfied: certifi>=2017.4.17 in /opt/anaconda3/lib/python3.7/site-packages (from requests<3,>=2.21.0->tensorboard<3,>=2.3.0->tensorflow>=1.14->tensorflow-constrained-optimization) (2020.6.20)\n",
      "Requirement already satisfied: urllib3!=1.25.0,!=1.25.1,<1.26,>=1.21.1 in /opt/anaconda3/lib/python3.7/site-packages (from requests<3,>=2.21.0->tensorboard<3,>=2.3.0->tensorflow>=1.14->tensorflow-constrained-optimization) (1.25.9)\n",
      "Requirement already satisfied: idna<3,>=2.5 in /opt/anaconda3/lib/python3.7/site-packages (from requests<3,>=2.21.0->tensorboard<3,>=2.3.0->tensorflow>=1.14->tensorflow-constrained-optimization) (2.10)\n",
      "Requirement already satisfied: rsa<5,>=3.1.4; python_version >= \"3.5\" in /opt/anaconda3/lib/python3.7/site-packages (from google-auth<2,>=1.6.3->tensorboard<3,>=2.3.0->tensorflow>=1.14->tensorflow-constrained-optimization) (4.6)\n",
      "Requirement already satisfied: cachetools<5.0,>=2.0.0 in /opt/anaconda3/lib/python3.7/site-packages (from google-auth<2,>=1.6.3->tensorboard<3,>=2.3.0->tensorflow>=1.14->tensorflow-constrained-optimization) (4.1.1)\n",
      "Requirement already satisfied: pyasn1-modules>=0.2.1 in /opt/anaconda3/lib/python3.7/site-packages (from google-auth<2,>=1.6.3->tensorboard<3,>=2.3.0->tensorflow>=1.14->tensorflow-constrained-optimization) (0.2.8)\n",
      "Requirement already satisfied: importlib-metadata; python_version < \"3.8\" in /opt/anaconda3/lib/python3.7/site-packages (from markdown>=2.6.8->tensorboard<3,>=2.3.0->tensorflow>=1.14->tensorflow-constrained-optimization) (1.7.0)\n",
      "Requirement already satisfied: oauthlib>=3.0.0 in /opt/anaconda3/lib/python3.7/site-packages (from requests-oauthlib>=0.7.0->google-auth-oauthlib<0.5,>=0.4.1->tensorboard<3,>=2.3.0->tensorflow>=1.14->tensorflow-constrained-optimization) (3.1.0)\n",
      "Requirement already satisfied: pyasn1>=0.1.3 in /opt/anaconda3/lib/python3.7/site-packages (from rsa<5,>=3.1.4; python_version >= \"3.5\"->google-auth<2,>=1.6.3->tensorboard<3,>=2.3.0->tensorflow>=1.14->tensorflow-constrained-optimization) (0.4.8)\n",
      "Requirement already satisfied: zipp>=0.5 in /opt/anaconda3/lib/python3.7/site-packages (from importlib-metadata; python_version < \"3.8\"->markdown>=2.6.8->tensorboard<3,>=2.3.0->tensorflow>=1.14->tensorflow-constrained-optimization) (3.1.0)\n",
      "Installing collected packages: tensorflow-constrained-optimization\n",
      "Successfully installed tensorflow-constrained-optimization-0.2\n"
     ]
    }
   ],
   "source": [
    "# Tensorflow constrained optimization library\n",
    "!pip install tensorflow-constrained-optimization\n",
    "#!pip install tensorflow"
   ]
  },
  {
   "cell_type": "code",
   "execution_count": 10,
   "metadata": {
    "colab": {},
    "colab_type": "code",
    "id": "FoYVEXPA_Bdp"
   },
   "outputs": [],
   "source": [
    "import matplotlib.pyplot as plt\n",
    "import numpy as np\n",
    "import os\n",
    "import pandas as pd\n",
    "import shutil\n",
    "from sklearn import metrics\n",
    "from sklearn import model_selection\n",
    "import tensorflow.compat.v2 as tf"
   ]
  },
  {
   "cell_type": "code",
   "execution_count": 11,
   "metadata": {
    "colab": {},
    "colab_type": "code",
    "id": "Ea1KIDRgC4eq"
   },
   "outputs": [],
   "source": [
    "import tensorflow_constrained_optimization as tfco"
   ]
  },
  {
   "cell_type": "markdown",
   "metadata": {
    "colab_type": "text",
    "id": "BLxZD5uH_Bds"
   },
   "source": [
    "## Staffing\n",
    "\n",
    "We will use the School Staffing dataset from the Indian Human Development Survey - II  (School Staffing and Medical Staffing) repository for our illustration. This dataset contains various demographic, religion and racial distribution details (aggregated from human development survey related data sources) about different communities in the India, along with the their age, position and level of education.\n",
    "\n",
    "\n",
    "We begin by downloading and preprocessing the dataset."
   ]
  },
  {
   "cell_type": "code",
   "execution_count": 12,
   "metadata": {
    "colab": {
     "base_uri": "https://localhost:8080/",
     "height": 246
    },
    "colab_type": "code",
    "id": "gJ_JcV-V_Bdu",
    "outputId": "f0ac9073-186e-47ca-c8ab-85d8012ec0ce"
   },
   "outputs": [
    {
     "data": {
      "text/html": [
       "<div>\n",
       "<style scoped>\n",
       "    .dataframe tbody tr th:only-of-type {\n",
       "        vertical-align: middle;\n",
       "    }\n",
       "\n",
       "    .dataframe tbody tr th {\n",
       "        vertical-align: top;\n",
       "    }\n",
       "\n",
       "    .dataframe thead th {\n",
       "        text-align: right;\n",
       "    }\n",
       "</style>\n",
       "<table border=\"1\" class=\"dataframe\">\n",
       "  <thead>\n",
       "    <tr style=\"text-align: right;\">\n",
       "      <th></th>\n",
       "      <th>STATEID</th>\n",
       "      <th>DISTID</th>\n",
       "      <th>PSUID</th>\n",
       "      <th>SCHOOLID</th>\n",
       "      <th>SQGOVT</th>\n",
       "      <th>SS1</th>\n",
       "      <th>SS3</th>\n",
       "      <th>SS4</th>\n",
       "      <th>SS5</th>\n",
       "      <th>SS6</th>\n",
       "      <th>SS7</th>\n",
       "      <th>SS8</th>\n",
       "      <th>SS9</th>\n",
       "      <th>SS10</th>\n",
       "      <th>SS11</th>\n",
       "      <th>SS12</th>\n",
       "      <th>SS13</th>\n",
       "    </tr>\n",
       "  </thead>\n",
       "  <tbody>\n",
       "    <tr>\n",
       "      <th>0</th>\n",
       "      <td>1</td>\n",
       "      <td>2</td>\n",
       "      <td>1</td>\n",
       "      <td>1</td>\n",
       "      <td>1</td>\n",
       "      <td>1</td>\n",
       "      <td>1</td>\n",
       "      <td>1</td>\n",
       "      <td>5</td>\n",
       "      <td>1</td>\n",
       "      <td>1</td>\n",
       "      <td>25</td>\n",
       "      <td>15</td>\n",
       "      <td>1</td>\n",
       "      <td>2</td>\n",
       "      <td>3</td>\n",
       "      <td>2</td>\n",
       "    </tr>\n",
       "    <tr>\n",
       "      <th>1</th>\n",
       "      <td>1</td>\n",
       "      <td>2</td>\n",
       "      <td>1</td>\n",
       "      <td>1</td>\n",
       "      <td>1</td>\n",
       "      <td>2</td>\n",
       "      <td>2</td>\n",
       "      <td>3</td>\n",
       "      <td>5</td>\n",
       "      <td>1</td>\n",
       "      <td>2</td>\n",
       "      <td>26</td>\n",
       "      <td>15</td>\n",
       "      <td>1</td>\n",
       "      <td>2</td>\n",
       "      <td>3</td>\n",
       "      <td>2</td>\n",
       "    </tr>\n",
       "    <tr>\n",
       "      <th>2</th>\n",
       "      <td>1</td>\n",
       "      <td>2</td>\n",
       "      <td>1</td>\n",
       "      <td>1</td>\n",
       "      <td>1</td>\n",
       "      <td>3</td>\n",
       "      <td>3</td>\n",
       "      <td>3</td>\n",
       "      <td>99</td>\n",
       "      <td>1</td>\n",
       "      <td>2</td>\n",
       "      <td>35</td>\n",
       "      <td>0</td>\n",
       "      <td></td>\n",
       "      <td>2</td>\n",
       "      <td>5</td>\n",
       "      <td>0</td>\n",
       "    </tr>\n",
       "    <tr>\n",
       "      <th>3</th>\n",
       "      <td>1</td>\n",
       "      <td>2</td>\n",
       "      <td>1</td>\n",
       "      <td>2</td>\n",
       "      <td>2</td>\n",
       "      <td>1</td>\n",
       "      <td>1</td>\n",
       "      <td>3</td>\n",
       "      <td>2</td>\n",
       "      <td>2</td>\n",
       "      <td>2</td>\n",
       "      <td>25</td>\n",
       "      <td>15</td>\n",
       "      <td>0</td>\n",
       "      <td>2</td>\n",
       "      <td>3</td>\n",
       "      <td>4</td>\n",
       "    </tr>\n",
       "    <tr>\n",
       "      <th>4</th>\n",
       "      <td>1</td>\n",
       "      <td>2</td>\n",
       "      <td>1</td>\n",
       "      <td>2</td>\n",
       "      <td>2</td>\n",
       "      <td>2</td>\n",
       "      <td>2</td>\n",
       "      <td>1</td>\n",
       "      <td>2</td>\n",
       "      <td>1</td>\n",
       "      <td>2</td>\n",
       "      <td>21</td>\n",
       "      <td>15</td>\n",
       "      <td>0</td>\n",
       "      <td>2</td>\n",
       "      <td>3</td>\n",
       "      <td>1</td>\n",
       "    </tr>\n",
       "  </tbody>\n",
       "</table>\n",
       "</div>"
      ],
      "text/plain": [
       "   STATEID  DISTID  PSUID  SCHOOLID  SQGOVT SS1 SS3 SS4 SS5 SS6 SS7 SS8 SS9  \\\n",
       "0        1       2      1         1       1   1   1   1   5   1   1  25  15   \n",
       "1        1       2      1         1       1   2   2   3   5   1   2  26  15   \n",
       "2        1       2      1         1       1   3   3   3  99   1   2  35   0   \n",
       "3        1       2      1         2       2   1   1   3   2   2   2  25  15   \n",
       "4        1       2      1         2       2   2   2   1   2   1   2  21  15   \n",
       "\n",
       "  SS10 SS11 SS12 SS13  \n",
       "0    1    2    3    2  \n",
       "1    1    2    3    2  \n",
       "2         2    5    0  \n",
       "3    0    2    3    4  \n",
       "4    0    2    3    1  "
      ]
     },
     "execution_count": 12,
     "metadata": {},
     "output_type": "execute_result"
    }
   ],
   "source": [
    "dataset_path = \"data/staffing-teaching/School-Staff-Data.csv\"\n",
    "\n",
    "# Read dataset from  https://www.researchconnections.org/icpsrweb/instructors/studies/36151 repository and assign column names.\n",
    "data_df = pd.read_csv(dataset_path)\n",
    "data_df.head()"
   ]
  },
  {
   "cell_type": "code",
   "execution_count": 13,
   "metadata": {},
   "outputs": [],
   "source": [
    "data_df = data_df.dropna()"
   ]
  },
  {
   "cell_type": "code",
   "execution_count": 14,
   "metadata": {
    "colab": {},
    "colab_type": "code",
    "id": "MgoeyhS0_Bds"
   },
   "outputs": [],
   "source": [
    "# List of column names in the dataset.\n",
    "cols = data_df.columns"
   ]
  },
  {
   "cell_type": "code",
   "execution_count": 15,
   "metadata": {},
   "outputs": [
    {
     "data": {
      "text/plain": [
       "543898"
      ]
     },
     "execution_count": 15,
     "metadata": {},
     "output_type": "execute_result"
    }
   ],
   "source": [
    "data_df.size"
   ]
  },
  {
   "cell_type": "code",
   "execution_count": 17,
   "metadata": {},
   "outputs": [
    {
     "name": "stdout",
     "output_type": "stream",
     "text": [
      "SS1\n",
      "{'1': 1.0, '2': 12.0, '3': 23.0, '4': 34.0, '5': 42.0, '6': 43.0, '7': 44.0, '8': 45.0, '9': 46.0, '10': 2.0, '11': 3.0, '12': 4.0, '13': 5.0, '14': 6.0, '15': 7.0, '16': 8.0, '17': 9.0, '18': 10.0, '19': 11.0, '20': 13.0, '21': 14.0, '22': 15.0, '23': 16.0, '24': 17.0, '25': 18.0, '26': 19.0, '27': 20.0, '28': 21.0, '29': 22.0, '30': 24.0, '31': 25.0, '32': 26.0, '33': 27.0, '34': 28.0, '35': 29.0, '36': 30.0, '37': 31.0, '38': 32.0, '39': 33.0, '40': 35.0, '41': 36.0, '42': 37.0, '43': 38.0, '44': 39.0, '45': 40.0, '46': 41.0, ' ': 0.0}\n",
      "SS3\n",
      "{'1': 1.0, '2': 2.0, '3': 3.0, '5': 5.0, '4': 4.0, ' ': 0.0}\n",
      "SS4\n",
      "{'1': 1.0, '3': 3.0, '2': 2.0, ' ': 0.0}\n",
      "SS5\n",
      "{'5': 9.0, '99': 15.0, '2': 5.0, '4': 8.0, '3': 7.0, '8': 13.0, '6': 11.0, '1': 1.0, '10': 2.0, '55': 10.0, '12': 4.0, '9': 14.0, '7': 12.0, ' ': 0.0, '11': 3.0, '22': 6.0}\n",
      "SS6\n",
      "{'1': 1.0, '2': 2.0, ' ': 0.0, '3': 3.0}\n",
      "SS7\n",
      "{'1': 1.0, '2': 2.0, ' ': 0.0}\n",
      "SS8\n",
      "{'25': 12.0, '26': 13.0, '35': 22.0, '21': 8.0, '32': 19.0, '27': 14.0, '24': 11.0, '34': 21.0, '44': 31.0, '30': 17.0, '28': 15.0, '48': 35.0, '63': 50.0, '55': 42.0, '42': 29.0, '33': 20.0, '37': 24.0, '40': 27.0, '72': 59.0, '39': 26.0, '43': 30.0, '22': 9.0, '51': 38.0, '36': 23.0, '45': 32.0, '47': 34.0, '29': 16.0, '65': 52.0, '23': 10.0, '20': 7.0, '19': 6.0, '56': 43.0, '50': 37.0, '52': 39.0, '57': 44.0, '53': 40.0, '31': 18.0, '49': 36.0, '46': 33.0, '58': 45.0, '38': 25.0, '18': 5.0, '61': 48.0, '60': 47.0, '62': 49.0, '41': 28.0, '54': 41.0, '68': 55.0, '80': 66.0, '67': 54.0, '59': 46.0, '70': 57.0, '76': 63.0, '71': 58.0, '66': 53.0, '74': 61.0, '17': 4.0, ' ': 0.0, '75': 62.0, '16': 3.0, '73': 60.0, '15': 2.0, '64': 51.0, '8': 65.0, '69': 56.0, '79': 64.0, '82': 67.0, '14': 1.0}\n",
      "SS9\n",
      "{'15': 4.0, '0': 1.0, '17': 5.0, '12': 3.0, '10': 2.0, '5': 6.0, '8': 7.0, ' ': 0.0}\n",
      "SS10\n",
      "{'1': 2.0, ' ': 0.0, '0': 1.0}\n",
      "SS11\n",
      "{'2': 2.0, '1': 1.0, '3': 3.0, ' ': 0.0, '4': 4.0, '5': 5.0, '6': 6.0, '9': 9.0, '8': 8.0, '7': 7.0}\n",
      "SS12\n",
      "{'3': 3.0, '5': 5.0, '2': 2.0, ' ': 0.0, '6': 6.0, '1': 1.0, '4': 4.0}\n",
      "SS13\n",
      "{'2': 13.0, '0': 1.0, '4': 35.0, '1': 2.0, '5': 43.0, '12': 5.0, '35': 30.0, '3': 24.0, '7': 57.0, '10': 3.0, '8': 62.0, '9': 66.0, '21': 15.0, '14': 7.0, '11': 4.0, '13': 6.0, '6': 51.0, ' ': 0.0, '80': 63.0, '45': 39.0, '17': 10.0, '60': 52.0, '18': 11.0, '90': 67.0, '20': 14.0, '25': 19.0, '15': 8.0, '30': 25.0, '16': 9.0, '40': 36.0, '26': 20.0, '22': 16.0, '31': 26.0, '50': 44.0, '99': 68.0, '33': 28.0, '28': 22.0, '19': 12.0, '23': 17.0, '27': 21.0, '82': 64.0, '24': 18.0, '38': 33.0, '46': 40.0, '39': 34.0, '75': 61.0, '70': 58.0, '56': 49.0, '63': 54.0, '32': 27.0, '34': 29.0, '55': 48.0, '42': 37.0, '37': 32.0, '36': 31.0, '54': 47.0, '65': 55.0, '48': 42.0, '73': 60.0, '47': 41.0, '53': 46.0, '72': 59.0, '52': 45.0, '85': 65.0, '58': 50.0, '62': 53.0, '43': 38.0, '66': 56.0, '29': 23.0}\n"
     ]
    },
    {
     "data": {
      "text/html": [
       "<div>\n",
       "<style scoped>\n",
       "    .dataframe tbody tr th:only-of-type {\n",
       "        vertical-align: middle;\n",
       "    }\n",
       "\n",
       "    .dataframe tbody tr th {\n",
       "        vertical-align: top;\n",
       "    }\n",
       "\n",
       "    .dataframe thead th {\n",
       "        text-align: right;\n",
       "    }\n",
       "</style>\n",
       "<table border=\"1\" class=\"dataframe\">\n",
       "  <thead>\n",
       "    <tr style=\"text-align: right;\">\n",
       "      <th></th>\n",
       "      <th>STATEID</th>\n",
       "      <th>DISTID</th>\n",
       "      <th>PSUID</th>\n",
       "      <th>SCHOOLID</th>\n",
       "      <th>SQGOVT</th>\n",
       "      <th>SS1</th>\n",
       "      <th>SS3</th>\n",
       "      <th>SS4</th>\n",
       "      <th>SS5</th>\n",
       "      <th>SS6</th>\n",
       "      <th>SS7</th>\n",
       "      <th>SS8</th>\n",
       "      <th>SS9</th>\n",
       "      <th>SS10</th>\n",
       "      <th>SS11</th>\n",
       "      <th>SS12</th>\n",
       "      <th>SS13</th>\n",
       "    </tr>\n",
       "  </thead>\n",
       "  <tbody>\n",
       "    <tr>\n",
       "      <th>0</th>\n",
       "      <td>1</td>\n",
       "      <td>2</td>\n",
       "      <td>1</td>\n",
       "      <td>1</td>\n",
       "      <td>1</td>\n",
       "      <td>1.0</td>\n",
       "      <td>1.0</td>\n",
       "      <td>1.0</td>\n",
       "      <td>9.0</td>\n",
       "      <td>1.0</td>\n",
       "      <td>1.0</td>\n",
       "      <td>12.0</td>\n",
       "      <td>4.0</td>\n",
       "      <td>2.0</td>\n",
       "      <td>2.0</td>\n",
       "      <td>3.0</td>\n",
       "      <td>13.0</td>\n",
       "    </tr>\n",
       "    <tr>\n",
       "      <th>1</th>\n",
       "      <td>1</td>\n",
       "      <td>2</td>\n",
       "      <td>1</td>\n",
       "      <td>1</td>\n",
       "      <td>1</td>\n",
       "      <td>12.0</td>\n",
       "      <td>2.0</td>\n",
       "      <td>3.0</td>\n",
       "      <td>9.0</td>\n",
       "      <td>1.0</td>\n",
       "      <td>2.0</td>\n",
       "      <td>13.0</td>\n",
       "      <td>4.0</td>\n",
       "      <td>2.0</td>\n",
       "      <td>2.0</td>\n",
       "      <td>3.0</td>\n",
       "      <td>13.0</td>\n",
       "    </tr>\n",
       "    <tr>\n",
       "      <th>2</th>\n",
       "      <td>1</td>\n",
       "      <td>2</td>\n",
       "      <td>1</td>\n",
       "      <td>1</td>\n",
       "      <td>1</td>\n",
       "      <td>23.0</td>\n",
       "      <td>3.0</td>\n",
       "      <td>3.0</td>\n",
       "      <td>15.0</td>\n",
       "      <td>1.0</td>\n",
       "      <td>2.0</td>\n",
       "      <td>22.0</td>\n",
       "      <td>1.0</td>\n",
       "      <td>0.0</td>\n",
       "      <td>2.0</td>\n",
       "      <td>5.0</td>\n",
       "      <td>1.0</td>\n",
       "    </tr>\n",
       "    <tr>\n",
       "      <th>3</th>\n",
       "      <td>1</td>\n",
       "      <td>2</td>\n",
       "      <td>1</td>\n",
       "      <td>2</td>\n",
       "      <td>2</td>\n",
       "      <td>1.0</td>\n",
       "      <td>1.0</td>\n",
       "      <td>3.0</td>\n",
       "      <td>5.0</td>\n",
       "      <td>2.0</td>\n",
       "      <td>2.0</td>\n",
       "      <td>12.0</td>\n",
       "      <td>4.0</td>\n",
       "      <td>1.0</td>\n",
       "      <td>2.0</td>\n",
       "      <td>3.0</td>\n",
       "      <td>35.0</td>\n",
       "    </tr>\n",
       "    <tr>\n",
       "      <th>4</th>\n",
       "      <td>1</td>\n",
       "      <td>2</td>\n",
       "      <td>1</td>\n",
       "      <td>2</td>\n",
       "      <td>2</td>\n",
       "      <td>12.0</td>\n",
       "      <td>2.0</td>\n",
       "      <td>1.0</td>\n",
       "      <td>5.0</td>\n",
       "      <td>1.0</td>\n",
       "      <td>2.0</td>\n",
       "      <td>8.0</td>\n",
       "      <td>4.0</td>\n",
       "      <td>1.0</td>\n",
       "      <td>2.0</td>\n",
       "      <td>3.0</td>\n",
       "      <td>2.0</td>\n",
       "    </tr>\n",
       "    <tr>\n",
       "      <th>5</th>\n",
       "      <td>1</td>\n",
       "      <td>2</td>\n",
       "      <td>2</td>\n",
       "      <td>1</td>\n",
       "      <td>1</td>\n",
       "      <td>1.0</td>\n",
       "      <td>1.0</td>\n",
       "      <td>1.0</td>\n",
       "      <td>9.0</td>\n",
       "      <td>1.0</td>\n",
       "      <td>1.0</td>\n",
       "      <td>22.0</td>\n",
       "      <td>5.0</td>\n",
       "      <td>2.0</td>\n",
       "      <td>2.0</td>\n",
       "      <td>2.0</td>\n",
       "      <td>43.0</td>\n",
       "    </tr>\n",
       "    <tr>\n",
       "      <th>6</th>\n",
       "      <td>1</td>\n",
       "      <td>2</td>\n",
       "      <td>2</td>\n",
       "      <td>1</td>\n",
       "      <td>1</td>\n",
       "      <td>12.0</td>\n",
       "      <td>2.0</td>\n",
       "      <td>2.0</td>\n",
       "      <td>9.0</td>\n",
       "      <td>1.0</td>\n",
       "      <td>2.0</td>\n",
       "      <td>19.0</td>\n",
       "      <td>5.0</td>\n",
       "      <td>2.0</td>\n",
       "      <td>2.0</td>\n",
       "      <td>2.0</td>\n",
       "      <td>2.0</td>\n",
       "    </tr>\n",
       "    <tr>\n",
       "      <th>7</th>\n",
       "      <td>1</td>\n",
       "      <td>2</td>\n",
       "      <td>2</td>\n",
       "      <td>2</td>\n",
       "      <td>2</td>\n",
       "      <td>1.0</td>\n",
       "      <td>1.0</td>\n",
       "      <td>1.0</td>\n",
       "      <td>9.0</td>\n",
       "      <td>1.0</td>\n",
       "      <td>1.0</td>\n",
       "      <td>14.0</td>\n",
       "      <td>4.0</td>\n",
       "      <td>2.0</td>\n",
       "      <td>2.0</td>\n",
       "      <td>2.0</td>\n",
       "      <td>1.0</td>\n",
       "    </tr>\n",
       "    <tr>\n",
       "      <th>8</th>\n",
       "      <td>1</td>\n",
       "      <td>2</td>\n",
       "      <td>2</td>\n",
       "      <td>2</td>\n",
       "      <td>2</td>\n",
       "      <td>12.0</td>\n",
       "      <td>2.0</td>\n",
       "      <td>3.0</td>\n",
       "      <td>9.0</td>\n",
       "      <td>1.0</td>\n",
       "      <td>1.0</td>\n",
       "      <td>11.0</td>\n",
       "      <td>4.0</td>\n",
       "      <td>2.0</td>\n",
       "      <td>2.0</td>\n",
       "      <td>2.0</td>\n",
       "      <td>1.0</td>\n",
       "    </tr>\n",
       "    <tr>\n",
       "      <th>9</th>\n",
       "      <td>1</td>\n",
       "      <td>2</td>\n",
       "      <td>2</td>\n",
       "      <td>2</td>\n",
       "      <td>2</td>\n",
       "      <td>23.0</td>\n",
       "      <td>2.0</td>\n",
       "      <td>3.0</td>\n",
       "      <td>9.0</td>\n",
       "      <td>1.0</td>\n",
       "      <td>1.0</td>\n",
       "      <td>21.0</td>\n",
       "      <td>3.0</td>\n",
       "      <td>1.0</td>\n",
       "      <td>2.0</td>\n",
       "      <td>2.0</td>\n",
       "      <td>1.0</td>\n",
       "    </tr>\n",
       "  </tbody>\n",
       "</table>\n",
       "</div>"
      ],
      "text/plain": [
       "   STATEID  DISTID  PSUID  SCHOOLID  SQGOVT   SS1  SS3  SS4   SS5  SS6  SS7  \\\n",
       "0        1       2      1         1       1   1.0  1.0  1.0   9.0  1.0  1.0   \n",
       "1        1       2      1         1       1  12.0  2.0  3.0   9.0  1.0  2.0   \n",
       "2        1       2      1         1       1  23.0  3.0  3.0  15.0  1.0  2.0   \n",
       "3        1       2      1         2       2   1.0  1.0  3.0   5.0  2.0  2.0   \n",
       "4        1       2      1         2       2  12.0  2.0  1.0   5.0  1.0  2.0   \n",
       "5        1       2      2         1       1   1.0  1.0  1.0   9.0  1.0  1.0   \n",
       "6        1       2      2         1       1  12.0  2.0  2.0   9.0  1.0  2.0   \n",
       "7        1       2      2         2       2   1.0  1.0  1.0   9.0  1.0  1.0   \n",
       "8        1       2      2         2       2  12.0  2.0  3.0   9.0  1.0  1.0   \n",
       "9        1       2      2         2       2  23.0  2.0  3.0   9.0  1.0  1.0   \n",
       "\n",
       "    SS8  SS9  SS10  SS11  SS12  SS13  \n",
       "0  12.0  4.0   2.0   2.0   3.0  13.0  \n",
       "1  13.0  4.0   2.0   2.0   3.0  13.0  \n",
       "2  22.0  1.0   0.0   2.0   5.0   1.0  \n",
       "3  12.0  4.0   1.0   2.0   3.0  35.0  \n",
       "4   8.0  4.0   1.0   2.0   3.0   2.0  \n",
       "5  22.0  5.0   2.0   2.0   2.0  43.0  \n",
       "6  19.0  5.0   2.0   2.0   2.0   2.0  \n",
       "7  14.0  4.0   2.0   2.0   2.0   1.0  \n",
       "8  11.0  4.0   2.0   2.0   2.0   1.0  \n",
       "9  21.0  3.0   1.0   2.0   2.0   1.0  "
      ]
     },
     "execution_count": 17,
     "metadata": {},
     "output_type": "execute_result"
    }
   ],
   "source": [
    "for col in data_df.select_dtypes(include=[object]):\n",
    "\n",
    "    data_df['org_'+col] =  data_df[col]\n",
    "    data_df[col] = data_df[col].astype('category').cat.codes\n",
    "    data_df[col] = data_df[col].astype(float)\n",
    "    print(col)\n",
    "    print(dict(zip( data_df['org_'+ col], data_df[col] ) ))\n",
    "\n",
    "\n",
    "data_df = data_df[cols]\n",
    "data_df.head(10)"
   ]
  },
  {
   "cell_type": "code",
   "execution_count": 18,
   "metadata": {},
   "outputs": [
    {
     "data": {
      "text/plain": [
       "array([0, 1])"
      ]
     },
     "execution_count": 18,
     "metadata": {},
     "output_type": "execute_result"
    }
   ],
   "source": [
    "data_df['SS9'] = data_df['SS9'].astype(int)\n",
    "data_df['SS9'] = np.where((data_df['SS9'] != 5), 0, 1)\n",
    "data_df['SS9'].unique()"
   ]
  },
  {
   "cell_type": "code",
   "execution_count": 19,
   "metadata": {
    "colab": {},
    "colab_type": "code",
    "id": "fJtOkt90_Bdy"
   },
   "outputs": [],
   "source": [
    "labels_df = data_df['SS9'].astype(int)\n"
   ]
  },
  {
   "cell_type": "code",
   "execution_count": 20,
   "metadata": {},
   "outputs": [
    {
     "data": {
      "text/plain": [
       "0        0\n",
       "1        0\n",
       "2        0\n",
       "3        0\n",
       "4        0\n",
       "        ..\n",
       "31989    0\n",
       "31990    0\n",
       "31991    0\n",
       "31992    0\n",
       "31993    0\n",
       "Name: SS9, Length: 31994, dtype: int64"
      ]
     },
     "execution_count": 20,
     "metadata": {},
     "output_type": "execute_result"
    }
   ],
   "source": [
    "labels_df"
   ]
  },
  {
   "cell_type": "code",
   "execution_count": 21,
   "metadata": {},
   "outputs": [
    {
     "data": {
      "text/plain": [
       "543898"
      ]
     },
     "execution_count": 21,
     "metadata": {},
     "output_type": "execute_result"
    }
   ],
   "source": [
    "data_df.size"
   ]
  },
  {
   "cell_type": "markdown",
   "metadata": {
    "colab_type": "text",
    "id": "n8-rQaGH_Bd2"
   },
   "source": [
    "We encode all categorical columns, and use other numerical/boolean features."
   ]
  },
  {
   "cell_type": "code",
   "execution_count": 22,
   "metadata": {},
   "outputs": [
    {
     "data": {
      "text/plain": [
       "Index(['STATEID', 'DISTID', 'PSUID', 'SCHOOLID', 'SQGOVT', 'SS1', 'SS3', 'SS4',\n",
       "       'SS5', 'SS6', 'SS7', 'SS8', 'SS9', 'SS10', 'SS11', 'SS12', 'SS13'],\n",
       "      dtype='object')"
      ]
     },
     "execution_count": 22,
     "metadata": {},
     "output_type": "execute_result"
    }
   ],
   "source": [
    "data_df.columns"
   ]
  },
  {
   "cell_type": "code",
   "execution_count": 23,
   "metadata": {},
   "outputs": [],
   "source": [
    "cols = data_df.columns"
   ]
  },
  {
   "cell_type": "markdown",
   "metadata": {
    "colab_type": "text",
    "id": "2eJcNA1B_Bd5"
   },
   "source": [
    "Some of the numerical columns contain missing values (denoted by a NaN). For each feature that has at least one value missing, we append an additional boolean \"is_missing\" feature indicating that the value was missing, and fill the missing value with 0."
   ]
  },
  {
   "cell_type": "code",
   "execution_count": 24,
   "metadata": {
    "colab": {},
    "colab_type": "code",
    "id": "8_RgukXn_Bd5"
   },
   "outputs": [],
   "source": [
    "feature_names = data_df.columns\n",
    "for feature_name in feature_names:  \n",
    "    # Which rows have missing values?\n",
    "    missing_rows = data_df[feature_name].isna()\n",
    "    if missing_rows.any():  # Check if at least one row has a missing value.\n",
    "        data_df[feature_name].fillna(0.0, inplace=True)  # Fill NaN with 0.\n",
    "        missing_rows.rename(feature_name + \"_is_missing\", inplace=True)\n",
    "        data_df = data_df.join(missing_rows)  # Append \"is_missing\" feature."
   ]
  },
  {
   "cell_type": "markdown",
   "metadata": {
    "colab_type": "text",
    "id": "S8U5yENt_Bd-"
   },
   "source": [
    "Finally, we divide the dataset randomly into two-thirds for training and one-thirds for testing."
   ]
  },
  {
   "cell_type": "code",
   "execution_count": 25,
   "metadata": {
    "colab": {},
    "colab_type": "code",
    "id": "bixDM2G0Bspg"
   },
   "outputs": [],
   "source": [
    "# Set random seed so that the results are reproducible.\n",
    "np.random.seed(123456)\n",
    "\n",
    "# Train and test indices.\n",
    "train_indices, test_indices = model_selection.train_test_split(\n",
    "    np.arange(data_df.shape[0]), test_size=1./3.)\n",
    "\n",
    "# Train and test data.\n",
    "x_train_df = data_df.loc[train_indices].astype(np.float32)\n",
    "y_train_df = labels_df.loc[train_indices].astype(np.float32)\n",
    "x_test_df = data_df.loc[test_indices].astype(np.float32)\n",
    "y_test_df = labels_df.loc[test_indices].astype(np.float32)\n",
    "\n",
    "# Convert data frames to NumPy arrays.\n",
    "x_train = x_train_df.values\n",
    "y_train = y_train_df.values\n",
    "x_test = x_test_df.values\n",
    "y_test = y_test_df.values"
   ]
  },
  {
   "cell_type": "code",
   "execution_count": 26,
   "metadata": {},
   "outputs": [
    {
     "data": {
      "text/plain": [
       "array([0., 1.], dtype=float32)"
      ]
     },
     "execution_count": 26,
     "metadata": {},
     "output_type": "execute_result"
    }
   ],
   "source": [
    "np.unique(y_train)"
   ]
  },
  {
   "cell_type": "code",
   "execution_count": 27,
   "metadata": {},
   "outputs": [
    {
     "data": {
      "text/plain": [
       "array([0., 1.], dtype=float32)"
      ]
     },
     "execution_count": 27,
     "metadata": {},
     "output_type": "execute_result"
    }
   ],
   "source": [
    "np.unique(y_test)"
   ]
  },
  {
   "cell_type": "markdown",
   "metadata": {
    "colab_type": "text",
    "id": "gXyyoSrG_BeA"
   },
   "source": [
    "# (1a)  PR-AUC Training with Plain TF"
   ]
  },
  {
   "cell_type": "code",
   "execution_count": 28,
   "metadata": {
    "colab": {},
    "colab_type": "code",
    "id": "hoqCCpf0oTIY"
   },
   "outputs": [],
   "source": [
    "batch_size = 128  # first fix the batch size for mini-batch training"
   ]
  },
  {
   "cell_type": "markdown",
   "metadata": {
    "colab_type": "text",
    "id": "wqo2mpRi_BeA"
   },
   "source": [
    "\n",
    "We will work with a linear classification model and define the data and model tensors. \n"
   ]
  },
  {
   "cell_type": "code",
   "execution_count": 29,
   "metadata": {
    "colab": {},
    "colab_type": "code",
    "id": "i1fxMQmy_BeB"
   },
   "outputs": [],
   "source": [
    "# Create linear Keras model.\n",
    "layers = []\n",
    "layers.append(tf.keras.Input(shape=(x_train.shape[-1],)))\n",
    "layers.append(tf.keras.layers.Dense(32, activation='relu')) \n",
    "layers.append(tf.keras.layers.Dense(32, activation='relu')) \n",
    "layers.append(tf.keras.layers.Dense(1))\n",
    "model = tf.keras.Sequential(layers)\n",
    "\n",
    "# Create nullary functions that return labels and logits from the current\n",
    "# batch. In eager mode, TFCO requires these to be provided via nullary function.\n",
    "# We will maintain a running array of batch indices.\n",
    "batch_indices = np.arange(batch_size)\n",
    "labels_fn = lambda: tf.constant(y_train[batch_indices], dtype=tf.float32)\n",
    "logits_fn = lambda: model(x_train[batch_indices, :])"
   ]
  },
  {
   "cell_type": "markdown",
   "metadata": {
    "colab_type": "text",
    "id": "gmFBVhsQ_BeD"
   },
   "source": [
    "We next set up the constraint optimization problem to optimize PR-AUC.\n"
   ]
  },
  {
   "cell_type": "code",
   "execution_count": 30,
   "metadata": {
    "colab": {},
    "colab_type": "code",
    "id": "8Swn_y0T_BeD"
   },
   "outputs": [],
   "source": [
    "# Create context with labels and predictions.\n",
    "context = tfco.rate_context(logits_fn, labels_fn)\n",
    "\n",
    "# Create optimization problem with PR-AUC as the objective. The library\n",
    "# expects a minimization objective, so we negate the PR-AUC. \n",
    "\n",
    "# We use the pr_auc rate helper which uses a Riemann approximation to the area \n",
    "# under the precision-recall curve (recall on the horizontal axis, precision on \n",
    "# the vertical axis). We would need to specify the the number of bins \n",
    "# (\"rectangles\") to use for the Riemann approximation. We also can optionally\n",
    "# specify the surrogate to be used to approximate the PR-AUC.\n",
    "pr_auc_rate = tfco.pr_auc(\n",
    "    context, bins=10, penalty_loss=tfco.SoftmaxCrossEntropyLoss())\n",
    "problem = tfco.RateMinimizationProblem(-pr_auc_rate)"
   ]
  },
  {
   "cell_type": "markdown",
   "metadata": {
    "colab_type": "text",
    "id": "OwpTHgqg_BeG"
   },
   "source": [
    "We then create a loss function from the `problem` and optimize it to train the model."
   ]
  },
  {
   "cell_type": "code",
   "execution_count": 31,
   "metadata": {
    "colab": {},
    "colab_type": "code",
    "id": "nkq2aVIn_BeG"
   },
   "outputs": [],
   "source": [
    "# Create Lagrangian loss for `problem`. What we get back is a loss function, a \n",
    "# a nullary function that returns a list of update_ops that need to be run \n",
    "# before every gradient update, and the Lagrange multiplier variables internally\n",
    "# maintained by the loss function. The argument `dual_scale` is a \n",
    "# hyper-parameter that specifies the relative importance placed on updates on \n",
    "# the Lagrange multipliers.\n",
    "loss_fn, update_ops_fn, multipliers = tfco.create_lagrangian_loss(\n",
    "    problem, dual_scale=1.0)\n",
    "\n",
    "# Set up optimizer and the list of variables to optimize.\n",
    "optimizer = tf.keras.optimizers.Adagrad(learning_rate=0.1)\n",
    "var_list = (model.trainable_weights + problem.trainable_variables + \n",
    "            [multipliers])"
   ]
  },
  {
   "cell_type": "markdown",
   "metadata": {
    "colab_type": "text",
    "id": "Ra-Cog9C_BeI"
   },
   "source": [
    "Before proceeding to solving the training problem, we write an evaluation function."
   ]
  },
  {
   "cell_type": "code",
   "execution_count": 32,
   "metadata": {
    "colab": {},
    "colab_type": "code",
    "id": "gFUyqbVx_BeI"
   },
   "outputs": [],
   "source": [
    "def pr_auc(model, features, labels):\n",
    "    # Returns the PR-AUC for given model, features and binary labels.\n",
    "    scores = model.predict(features)\n",
    "    \n",
    "    print(len(scores), len(y_test))\n",
    "    y_pred = model.predict(x_test)\n",
    "    pred_labels = np.argmax(y_pred, axis=1)\n",
    "    \n",
    "    precisions, recall, f1_score, true_sum = metrics.precision_recall_fscore_support(y_test, pred_labels)\n",
    "\n",
    "    accuracy_score = metrics.accuracy_score(y_test, pred_labels)\n",
    "    \n",
    "    return metrics.average_precision_score(labels,scores)"
   ]
  },
  {
   "cell_type": "markdown",
   "metadata": {
    "colab_type": "text",
    "id": "MID6ChJn_BeK"
   },
   "source": [
    "We are now ready to train our model. "
   ]
  },
  {
   "cell_type": "code",
   "execution_count": 33,
   "metadata": {
    "colab": {
     "base_uri": "https://localhost:8080/",
     "height": 261
    },
    "colab_type": "code",
    "id": "ZWUWtSp8NzK5",
    "outputId": "bd5488b6-030c-4cb7-e276-8788ec81a3d5"
   },
   "outputs": [
    {
     "name": "stdout",
     "output_type": "stream",
     "text": [
      "21329 10665\n"
     ]
    },
    {
     "name": "stderr",
     "output_type": "stream",
     "text": [
      "/opt/anaconda3/lib/python3.7/site-packages/sklearn/metrics/_classification.py:1221: UndefinedMetricWarning: Precision and F-score are ill-defined and being set to 0.0 in labels with no predicted samples. Use `zero_division` parameter to control this behavior.\n",
      "  _warn_prf(average, modifier, msg_start, len(result))\n"
     ]
    },
    {
     "name": "stdout",
     "output_type": "stream",
     "text": [
      "10665 10665\n",
      "21329 10665\n",
      "10665 10665\n",
      "21329 10665\n",
      "10665 10665\n",
      "21329 10665\n",
      "10665 10665\n",
      "21329 10665\n",
      "10665 10665\n",
      "21329 10665\n",
      "10665 10665\n",
      "21329 10665\n",
      "10665 10665\n",
      "21329 10665\n",
      "10665 10665\n",
      "21329 10665\n",
      "10665 10665\n",
      "21329 10665\n",
      "10665 10665\n",
      "21329 10665\n",
      "10665 10665\n",
      "21329 10665\n",
      "10665 10665\n",
      "21329 10665\n",
      "10665 10665\n",
      "21329 10665\n",
      "10665 10665\n",
      "21329 10665\n",
      "10665 10665\n",
      "21329 10665\n",
      "10665 10665\n",
      "21329 10665\n",
      "10665 10665\n",
      "21329 10665\n",
      "10665 10665\n",
      "21329 10665\n",
      "10665 10665\n",
      "21329 10665\n",
      "10665 10665\n",
      "21329 10665\n",
      "10665 10665\n",
      "21329 10665\n",
      "10665 10665\n",
      "21329 10665\n",
      "10665 10665\n",
      "21329 10665\n",
      "10665 10665\n",
      "21329 10665\n",
      "10665 10665\n"
     ]
    }
   ],
   "source": [
    "num_steps = 250\n",
    "num_examples = x_train.shape[0]\n",
    "\n",
    "train_objectives = []\n",
    "test_objectives = []\n",
    "\n",
    "for ii in range(num_steps):\n",
    "  # Indices for current batch; cycle back once we reach the end of stream.\n",
    "  batch_indices = np.arange(ii * batch_size, (ii + 1) * batch_size)\n",
    "  batch_indices = [ind % num_examples for ind in batch_indices]\n",
    "\n",
    "  # First run update ops, and then gradient update.\n",
    "  update_ops_fn()\n",
    "  optimizer.minimize(loss_fn, var_list=var_list)\n",
    "\n",
    "  # Record train and test objectives once every 10 steps.\n",
    "  if ii % 10 == 0:\n",
    "    train_objectives.append(pr_auc(model, x_train, y_train))\n",
    "    test_objectives.append(pr_auc(model, x_test, y_test))\n"
   ]
  },
  {
   "cell_type": "code",
   "execution_count": 34,
   "metadata": {},
   "outputs": [
    {
     "data": {
      "image/png": "[encoded data removed]",
      "text/plain": [
       "<Figure size 504x252 with 2 Axes>"
      ]
     },
     "metadata": {
      "needs_background": "light"
     },
     "output_type": "display_data"
    }
   ],
   "source": [
    "# Plot training and test objective as a function of steps.\n",
    "fig, ax = plt.subplots(1, 2, figsize=(7, 3.5))\n",
    "ax[0].plot(np.arange(1, num_steps + 1, 10), train_objectives)\n",
    "ax[0].set_title('Train PR-AUC')\n",
    "ax[0].set_xlabel('Steps')\n",
    "ax[1].plot(np.arange(1, num_steps + 1, 10), test_objectives)\n",
    "ax[1].set_title('Test PR-AUC')\n",
    "ax[1].set_xlabel('Steps')\n",
    "fig.tight_layout()"
   ]
  },
  {
   "cell_type": "code",
   "execution_count": 35,
   "metadata": {},
   "outputs": [
    {
     "name": "stdout",
     "output_type": "stream",
     "text": [
      "[0 0 0 ... 0 0 0] [0. 0. 0. ... 0. 0. 0.]\n",
      "Precision = [0.78687295 0.        ]\n",
      "Recall= [1. 0.]\n",
      "F1 Score = [0.88072624 0.        ]\n",
      "Accuracy0.7868729488982653\n"
     ]
    },
    {
     "name": "stderr",
     "output_type": "stream",
     "text": [
      "/opt/anaconda3/lib/python3.7/site-packages/sklearn/metrics/_classification.py:1221: UndefinedMetricWarning: Precision and F-score are ill-defined and being set to 0.0 in labels with no predicted samples. Use `zero_division` parameter to control this behavior.\n",
      "  _warn_prf(average, modifier, msg_start, len(result))\n"
     ]
    }
   ],
   "source": [
    "y_pred = model.predict(x_test)\n",
    "pred_labels = np.argmax(y_pred, axis=1)\n",
    "print(pred_labels, y_test)\n",
    "\n",
    "precisions, recall, f1_score, true_sum = metrics.precision_recall_fscore_support(y_test, pred_labels)\n",
    "\n",
    "print(\"Precision =\", precisions)\n",
    "print(\"Recall=\", recall)\n",
    "print(\"F1 Score =\", f1_score)\n",
    "accuracy_score = metrics.accuracy_score(y_test, pred_labels)\n",
    "print('Accuracy' + str(accuracy_score))"
   ]
  },
  {
   "cell_type": "markdown",
   "metadata": {},
   "source": [
    "## (1b) ROC-AUC Training with Plain TF"
   ]
  },
  {
   "cell_type": "code",
   "execution_count": 36,
   "metadata": {},
   "outputs": [],
   "source": [
    "# Create context with labels and predictions.\n",
    "context = tfco.rate_context(logits_fn, labels_fn)\n",
    "\n",
    "# Create optimization problem with PR-AUC as the objective. The library\n",
    "# expects a minimization objective, so we negate the PR-AUC. \n",
    "\n",
    "# We use the roc_auc rate helper which uses a Riemann approximation to the area \n",
    "# under the precision-recall curve (recall on the horizontal axis, precision on \n",
    "# the vertical axis). We would need to specify the the number of bins \n",
    "# (\"rectangles\") to use for the Riemann approximation. We also can optionally\n",
    "# specify the surrogate to be used to approximate the ROC-AUC\n",
    "roc_auc_rate = tfco.roc_auc(\n",
    "    context, bins=10, penalty_loss=tfco.SoftmaxCrossEntropyLoss())\n",
    "problem = tfco.RateMinimizationProblem(-roc_auc_rate)"
   ]
  },
  {
   "cell_type": "code",
   "execution_count": 37,
   "metadata": {},
   "outputs": [],
   "source": [
    "# Create Lagrangian loss for `problem`. What we get back is a loss function, a \n",
    "# a nullary function that returns a list of update_ops that need to be run \n",
    "# before every gradient update, and the Lagrange multiplier variables internally\n",
    "# maintained by the loss function. The argument `dual_scale` is a \n",
    "# hyper-parameter that specifies the relative importance placed on updates on \n",
    "# the Lagrange multipliers.\n",
    "loss_fn, update_ops_fn, multipliers = tfco.create_lagrangian_loss(\n",
    "    problem, dual_scale=1.0)\n",
    "\n",
    "# Set up optimizer and the list of variables to optimize.\n",
    "optimizer = tf.keras.optimizers.Adagrad(learning_rate=0.1)\n",
    "var_list = (model.trainable_weights + problem.trainable_variables + \n",
    "            [multipliers])"
   ]
  },
  {
   "cell_type": "code",
   "execution_count": 38,
   "metadata": {},
   "outputs": [],
   "source": [
    "def roc_auc(model, features, labels):\n",
    "    # Returns the ROC-AUC for given model, features and binary labels.\n",
    "    scores = model.predict(features)\n",
    "    return metrics.roc_auc_score(labels, scores)"
   ]
  },
  {
   "cell_type": "code",
   "execution_count": 39,
   "metadata": {},
   "outputs": [
    {
     "data": {
      "image/png": "[encoded data removed]",
      "text/plain": [
       "<Figure size 504x252 with 2 Axes>"
      ]
     },
     "metadata": {
      "needs_background": "light"
     },
     "output_type": "display_data"
    }
   ],
   "source": [
    "num_steps = 250\n",
    "num_examples = x_train.shape[0]\n",
    "\n",
    "train_objectives = []\n",
    "test_objectives = []\n",
    "\n",
    "for ii in range(num_steps):\n",
    "  # Indices for current batch; cycle back once we reach the end of stream.\n",
    "  batch_indices = np.arange(ii * batch_size, (ii + 1) * batch_size)\n",
    "  batch_indices = [ind % num_examples for ind in batch_indices]\n",
    "\n",
    "  # First run update ops, and then gradient update.\n",
    "  update_ops_fn()\n",
    "  optimizer.minimize(loss_fn, var_list=var_list)\n",
    "\n",
    "  # Record train and test objectives once every 10 steps.\n",
    "  if ii % 10 == 0:\n",
    "    train_objectives.append(roc_auc(model, x_train, y_train))\n",
    "    test_objectives.append(roc_auc(model, x_test, y_test))\n",
    "\n",
    "# Plot training and test objective as a function of steps.\n",
    "fig, ax = plt.subplots(1, 2, figsize=(7, 3.5))\n",
    "ax[0].plot(np.arange(1, num_steps + 1, 10), train_objectives)\n",
    "ax[0].set_title('Train ROC-AUC')\n",
    "ax[0].set_xlabel('Steps')\n",
    "ax[1].plot(np.arange(1, num_steps + 1, 10), test_objectives)\n",
    "ax[1].set_title('Test ROC-AUC')\n",
    "ax[1].set_xlabel('Steps')\n",
    "fig.tight_layout()"
   ]
  },
  {
   "cell_type": "markdown",
   "metadata": {},
   "source": [
    "# (1c) Accuracy Training with Plain TF"
   ]
  },
  {
   "cell_type": "code",
   "execution_count": 40,
   "metadata": {},
   "outputs": [],
   "source": [
    "# from tensorflow_constrained_optimization.python.rates import loss\n",
    "# DEFAULT_PENALTY_LOSS = loss.HingeLoss()\n",
    "# DEFAULT_CONSTRAINT_LOSS = loss.ZeroOneLoss()\n",
    "\n",
    "# Create context with labels and predictions.\n",
    "context = tfco.rate_context(logits_fn, labels_fn)\n",
    "\n",
    "# Create optimization problem with PR-AUC as the objective. The library\n",
    "# expects a minimization objective, so we negate the Precision At Recall.\n",
    "\n",
    "# We use the f1_score rate helper which uses a Riemann approximation to the area \n",
    "# under the precision-recall curve (recall on the horizontal axis, precision on \n",
    "# the vertical axis). We would need to specify the the number of bins \n",
    "# (\"rectangles\") to use for the Riemann approximation. We also can optionally\n",
    "# specify the surrogate to be used to approximate the Precision At Recall.\n",
    "\n",
    "accuracy_rate = tfco.accuracy_rate(\n",
    "          context, \n",
    "            constraint_loss=tfco.SoftmaxCrossEntropyLoss())"
   ]
  },
  {
   "cell_type": "code",
   "execution_count": 41,
   "metadata": {},
   "outputs": [],
   "source": [
    "problem = tfco.RateMinimizationProblem(-accuracy_rate)"
   ]
  },
  {
   "cell_type": "code",
   "execution_count": 42,
   "metadata": {},
   "outputs": [],
   "source": [
    "# Create Lagrangian loss for `problem`. What we get back is a loss function, a \n",
    "# a nullary function that returns a list of update_ops that need to be run \n",
    "# before every gradient update, and the Lagrange multiplier variables internally\n",
    "# maintained by the loss function. The argument `dual_scale` is a \n",
    "# hyper-parameter that specifies the relative importance placed on updates on \n",
    "# the Lagrange multipliers.\n",
    "loss_fn, update_ops_fn, multipliers = tfco.create_lagrangian_loss(\n",
    "    problem, dual_scale=1.0)\n",
    "\n",
    "# Set up optimizer and the list of variables to optimize.\n",
    "optimizer = tf.keras.optimizers.Adagrad(learning_rate=0.1)\n",
    "var_list = (model.trainable_weights + problem.trainable_variables + \n",
    "            [multipliers])"
   ]
  },
  {
   "cell_type": "code",
   "execution_count": 43,
   "metadata": {},
   "outputs": [],
   "source": [
    "def accuracy(model, features, labels):\n",
    "    # Returns the Accurracy for given model, features and binary labels.\n",
    "    scores = np.argmax(model.predict(features), axis=1) \n",
    "    return metrics.accuracy_score(labels, scores)"
   ]
  },
  {
   "cell_type": "code",
   "execution_count": 44,
   "metadata": {},
   "outputs": [
    {
     "data": {
      "image/png": "[encoded data removed]",
      "text/plain": [
       "<Figure size 504x252 with 2 Axes>"
      ]
     },
     "metadata": {
      "needs_background": "light"
     },
     "output_type": "display_data"
    }
   ],
   "source": [
    "num_steps = 250\n",
    "num_examples = x_train.shape[0]\n",
    "\n",
    "train_objectives = []\n",
    "test_objectives = []\n",
    "\n",
    "for ii in range(num_steps):\n",
    "  # Indices for current batch; cycle back once we reach the end of stream.\n",
    "  batch_indices = np.arange(ii * batch_size, (ii + 1) * batch_size)\n",
    "  batch_indices = [ind % num_examples for ind in batch_indices]\n",
    "\n",
    "  # First run update ops, and then gradient update.\n",
    "  update_ops_fn()\n",
    "  optimizer.minimize(loss_fn, var_list=var_list)\n",
    "\n",
    "  # Record train and test objectives once every 10 steps.\n",
    "  if ii % 10 == 0:\n",
    "    train_objectives.append(accuracy(model, x_train, y_train))\n",
    "    test_objectives.append(accuracy(model, x_test, y_test))\n",
    "\n",
    "# Plot training and test objective as a function of steps.\n",
    "fig, ax = plt.subplots(1, 2, figsize=(7, 3.5))\n",
    "ax[0].plot(np.arange(1, num_steps + 1, 10), train_objectives)\n",
    "ax[0].set_title('Train Accuracy-Score')\n",
    "ax[0].set_xlabel('Steps')\n",
    "ax[1].plot(np.arange(1, num_steps + 1, 10), test_objectives)\n",
    "ax[1].set_title('Test Accuracy-Score')\n",
    "ax[1].set_xlabel('Steps')\n",
    "fig.tight_layout()"
   ]
  },
  {
   "cell_type": "markdown",
   "metadata": {},
   "source": [
    "# (1d) Precision, Recall and Accuracy Plain TF without Constraints"
   ]
  },
  {
   "cell_type": "code",
   "execution_count": 45,
   "metadata": {},
   "outputs": [
    {
     "name": "stdout",
     "output_type": "stream",
     "text": [
      "Model: \"sequential_1\"\n",
      "_________________________________________________________________\n",
      "Layer (type)                 Output Shape              Param #   \n",
      "=================================================================\n",
      "dense_3 (Dense)              (None, 32)                576       \n",
      "_________________________________________________________________\n",
      "dense_4 (Dense)              (None, 32)                1056      \n",
      "_________________________________________________________________\n",
      "dense_5 (Dense)              (None, 1)                 33        \n",
      "=================================================================\n",
      "Total params: 1,665\n",
      "Trainable params: 1,665\n",
      "Non-trainable params: 0\n",
      "_________________________________________________________________\n",
      "Epoch 1/250\n",
      "167/167 [==============================] - 0s 547us/step - loss: 0.5739\n",
      "Epoch 2/250\n",
      "167/167 [==============================] - 0s 495us/step - loss: 0.3512\n",
      "Epoch 3/250\n",
      "167/167 [==============================] - 0s 504us/step - loss: 0.0806\n",
      "Epoch 4/250\n",
      "167/167 [==============================] - 0s 564us/step - loss: 0.0057\n",
      "Epoch 5/250\n",
      "167/167 [==============================] - 0s 665us/step - loss: 0.0025\n",
      "Epoch 6/250\n",
      "167/167 [==============================] - 0s 534us/step - loss: 0.0015\n",
      "Epoch 7/250\n",
      "167/167 [==============================] - 0s 549us/step - loss: 0.0010\n",
      "Epoch 8/250\n",
      "167/167 [==============================] - 0s 527us/step - loss: 7.8181e-04\n",
      "Epoch 9/250\n",
      "167/167 [==============================] - 0s 530us/step - loss: 6.1920e-04\n",
      "Epoch 10/250\n",
      "167/167 [==============================] - 0s 522us/step - loss: 5.1134e-04\n",
      "Epoch 11/250\n",
      "167/167 [==============================] - 0s 500us/step - loss: 4.3539e-04\n",
      "Epoch 12/250\n",
      "167/167 [==============================] - 0s 501us/step - loss: 3.7557e-04\n",
      "Epoch 13/250\n",
      "167/167 [==============================] - 0s 502us/step - loss: 3.2949e-04\n",
      "Epoch 14/250\n",
      "167/167 [==============================] - 0s 537us/step - loss: 2.9342e-04\n",
      "Epoch 15/250\n",
      "167/167 [==============================] - 0s 509us/step - loss: 2.6385e-04\n",
      "Epoch 16/250\n",
      "167/167 [==============================] - 0s 507us/step - loss: 2.3861e-04\n",
      "Epoch 17/250\n",
      "167/167 [==============================] - 0s 526us/step - loss: 2.1848e-04\n",
      "Epoch 18/250\n",
      "167/167 [==============================] - 0s 528us/step - loss: 2.0047e-04\n",
      "Epoch 19/250\n",
      "167/167 [==============================] - 0s 587us/step - loss: 1.8565e-04\n",
      "Epoch 20/250\n",
      "167/167 [==============================] - 0s 511us/step - loss: 1.7191e-04\n",
      "Epoch 21/250\n",
      "167/167 [==============================] - 0s 505us/step - loss: 1.6071e-04\n",
      "Epoch 22/250\n",
      "167/167 [==============================] - 0s 553us/step - loss: 1.5069e-04\n",
      "Epoch 23/250\n",
      "167/167 [==============================] - 0s 509us/step - loss: 1.4135e-04\n",
      "Epoch 24/250\n",
      "167/167 [==============================] - 0s 578us/step - loss: 1.3362e-04\n",
      "Epoch 25/250\n",
      "167/167 [==============================] - 0s 584us/step - loss: 1.2624e-04\n",
      "Epoch 26/250\n",
      "167/167 [==============================] - 0s 507us/step - loss: 1.1962e-04\n",
      "Epoch 27/250\n",
      "167/167 [==============================] - 0s 503us/step - loss: 1.1369e-04\n",
      "Epoch 28/250\n",
      "167/167 [==============================] - 0s 497us/step - loss: 1.0819e-04\n",
      "Epoch 29/250\n",
      "167/167 [==============================] - 0s 526us/step - loss: 1.0321e-04\n",
      "Epoch 30/250\n",
      "167/167 [==============================] - 0s 643us/step - loss: 9.8522e-05\n",
      "Epoch 31/250\n",
      "167/167 [==============================] - 0s 552us/step - loss: 9.4454e-05\n",
      "Epoch 32/250\n",
      "167/167 [==============================] - 0s 517us/step - loss: 9.0501e-05\n",
      "Epoch 33/250\n",
      "167/167 [==============================] - 0s 505us/step - loss: 8.6861e-05\n",
      "Epoch 34/250\n",
      "167/167 [==============================] - 0s 528us/step - loss: 8.3564e-05\n",
      "Epoch 35/250\n",
      "167/167 [==============================] - 0s 527us/step - loss: 8.0410e-05\n",
      "Epoch 36/250\n",
      "167/167 [==============================] - 0s 531us/step - loss: 7.7506e-05\n",
      "Epoch 37/250\n",
      "167/167 [==============================] - 0s 498us/step - loss: 7.4722e-05\n",
      "Epoch 38/250\n",
      "167/167 [==============================] - 0s 500us/step - loss: 7.2358e-05\n",
      "Epoch 39/250\n",
      "167/167 [==============================] - 0s 496us/step - loss: 6.9932e-05\n",
      "Epoch 40/250\n",
      "167/167 [==============================] - 0s 511us/step - loss: 6.7639e-05\n",
      "Epoch 41/250\n",
      "167/167 [==============================] - 0s 497us/step - loss: 6.5493e-05\n",
      "Epoch 42/250\n",
      "167/167 [==============================] - 0s 505us/step - loss: 6.3537e-05\n",
      "Epoch 43/250\n",
      "167/167 [==============================] - 0s 500us/step - loss: 6.1613e-05\n",
      "Epoch 44/250\n",
      "167/167 [==============================] - 0s 509us/step - loss: 5.9873e-05\n",
      "Epoch 45/250\n",
      "167/167 [==============================] - 0s 520us/step - loss: 5.8130e-05\n",
      "Epoch 46/250\n",
      "167/167 [==============================] - 0s 515us/step - loss: 5.6493e-05\n",
      "Epoch 47/250\n",
      "167/167 [==============================] - 0s 528us/step - loss: 5.5041e-05\n",
      "Epoch 48/250\n",
      "167/167 [==============================] - 0s 517us/step - loss: 5.3557e-05\n",
      "Epoch 49/250\n",
      "167/167 [==============================] - 0s 519us/step - loss: 5.2173e-05\n",
      "Epoch 50/250\n",
      "167/167 [==============================] - 0s 499us/step - loss: 5.0846e-05\n",
      "Epoch 51/250\n",
      "167/167 [==============================] - 0s 502us/step - loss: 4.9589e-05\n",
      "Epoch 52/250\n",
      "167/167 [==============================] - 0s 520us/step - loss: 4.8372e-05\n",
      "Epoch 53/250\n",
      "167/167 [==============================] - 0s 500us/step - loss: 4.7224e-05\n",
      "Epoch 54/250\n",
      "167/167 [==============================] - 0s 496us/step - loss: 4.6137e-05\n",
      "Epoch 55/250\n",
      "167/167 [==============================] - 0s 505us/step - loss: 4.5085e-05\n",
      "Epoch 56/250\n",
      "167/167 [==============================] - 0s 493us/step - loss: 4.4079e-05\n",
      "Epoch 57/250\n",
      "167/167 [==============================] - 0s 495us/step - loss: 4.3091e-05\n",
      "Epoch 58/250\n",
      "167/167 [==============================] - 0s 508us/step - loss: 4.2189e-05\n",
      "Epoch 59/250\n",
      "167/167 [==============================] - 0s 634us/step - loss: 4.1306e-05\n",
      "Epoch 60/250\n",
      "167/167 [==============================] - 0s 511us/step - loss: 4.0437e-05\n",
      "Epoch 61/250\n",
      "167/167 [==============================] - 0s 495us/step - loss: 3.9615e-05\n",
      "Epoch 62/250\n",
      "167/167 [==============================] - 0s 496us/step - loss: 3.8833e-05\n",
      "Epoch 63/250\n",
      "167/167 [==============================] - 0s 502us/step - loss: 3.8063e-05\n",
      "Epoch 64/250\n",
      "167/167 [==============================] - 0s 493us/step - loss: 3.7325e-05\n",
      "Epoch 65/250\n",
      "167/167 [==============================] - 0s 512us/step - loss: 3.6633e-05\n",
      "Epoch 66/250\n",
      "167/167 [==============================] - 0s 505us/step - loss: 3.5944e-05\n",
      "Epoch 67/250\n",
      "167/167 [==============================] - 0s 505us/step - loss: 3.5269e-05\n",
      "Epoch 68/250\n",
      "167/167 [==============================] - 0s 511us/step - loss: 3.4647e-05\n",
      "Epoch 69/250\n",
      "167/167 [==============================] - 0s 498us/step - loss: 3.4033e-05\n",
      "Epoch 70/250\n",
      "167/167 [==============================] - 0s 507us/step - loss: 3.3420e-05\n",
      "Epoch 71/250\n",
      "167/167 [==============================] - 0s 524us/step - loss: 3.2849e-05\n",
      "Epoch 72/250\n",
      "167/167 [==============================] - 0s 503us/step - loss: 3.2280e-05\n",
      "Epoch 73/250\n",
      "167/167 [==============================] - 0s 499us/step - loss: 3.1732e-05\n",
      "Epoch 74/250\n",
      "167/167 [==============================] - 0s 493us/step - loss: 3.1228e-05\n",
      "Epoch 75/250\n",
      "167/167 [==============================] - 0s 532us/step - loss: 3.0701e-05\n",
      "Epoch 76/250\n",
      "167/167 [==============================] - 0s 621us/step - loss: 3.0223e-05\n",
      "Epoch 77/250\n",
      "167/167 [==============================] - 0s 519us/step - loss: 2.9736e-05\n",
      "Epoch 78/250\n",
      "167/167 [==============================] - 0s 641us/step - loss: 2.9276e-05\n",
      "Epoch 79/250\n",
      "167/167 [==============================] - 0s 591us/step - loss: 2.8817e-05\n",
      "Epoch 80/250\n",
      "167/167 [==============================] - 0s 540us/step - loss: 2.8387e-05\n",
      "Epoch 81/250\n",
      "167/167 [==============================] - 0s 510us/step - loss: 2.7961e-05\n",
      "Epoch 82/250\n",
      "167/167 [==============================] - 0s 622us/step - loss: 2.7543e-05\n",
      "Epoch 83/250\n",
      "167/167 [==============================] - 0s 566us/step - loss: 2.7138e-05\n",
      "Epoch 84/250\n",
      "167/167 [==============================] - 0s 520us/step - loss: 2.6740e-05\n",
      "Epoch 85/250\n"
     ]
    },
    {
     "name": "stdout",
     "output_type": "stream",
     "text": [
      "167/167 [==============================] - 0s 526us/step - loss: 2.6362e-05\n",
      "Epoch 86/250\n",
      "167/167 [==============================] - 0s 537us/step - loss: 2.5993e-05\n",
      "Epoch 87/250\n",
      "167/167 [==============================] - 0s 535us/step - loss: 2.5635e-05\n",
      "Epoch 88/250\n",
      "167/167 [==============================] - 0s 536us/step - loss: 2.5276e-05\n",
      "Epoch 89/250\n",
      "167/167 [==============================] - 0s 699us/step - loss: 2.4937e-05\n",
      "Epoch 90/250\n",
      "167/167 [==============================] - 0s 850us/step - loss: 2.4600e-05\n",
      "Epoch 91/250\n",
      "167/167 [==============================] - 0s 683us/step - loss: 2.4278e-05\n",
      "Epoch 92/250\n",
      "167/167 [==============================] - 0s 1ms/step - loss: 2.3950e-05\n",
      "Epoch 93/250\n",
      "167/167 [==============================] - 0s 751us/step - loss: 2.3643e-05\n",
      "Epoch 94/250\n",
      "167/167 [==============================] - 0s 709us/step - loss: 2.3344e-05\n",
      "Epoch 95/250\n",
      "167/167 [==============================] - 0s 815us/step - loss: 2.3034e-05\n",
      "Epoch 96/250\n",
      "167/167 [==============================] - 0s 981us/step - loss: 2.2757e-05\n",
      "Epoch 97/250\n",
      "167/167 [==============================] - 0s 667us/step - loss: 2.2474e-05\n",
      "Epoch 98/250\n",
      "167/167 [==============================] - 0s 692us/step - loss: 2.2196e-05\n",
      "Epoch 99/250\n",
      "167/167 [==============================] - 0s 688us/step - loss: 2.1925e-05\n",
      "Epoch 100/250\n",
      "167/167 [==============================] - 0s 779us/step - loss: 2.1662e-05\n",
      "Epoch 101/250\n",
      "167/167 [==============================] - 0s 720us/step - loss: 2.1403e-05\n",
      "Epoch 102/250\n",
      "167/167 [==============================] - 0s 676us/step - loss: 2.1150e-05\n",
      "Epoch 103/250\n",
      "167/167 [==============================] - 0s 694us/step - loss: 2.0901e-05\n",
      "Epoch 104/250\n",
      "167/167 [==============================] - 0s 546us/step - loss: 2.0665e-05\n",
      "Epoch 105/250\n",
      "167/167 [==============================] - 0s 511us/step - loss: 2.0425e-05\n",
      "Epoch 106/250\n",
      "167/167 [==============================] - 0s 532us/step - loss: 2.0199e-05\n",
      "Epoch 107/250\n",
      "167/167 [==============================] - 0s 527us/step - loss: 1.9970e-05\n",
      "Epoch 108/250\n",
      "167/167 [==============================] - 0s 504us/step - loss: 1.9750e-05\n",
      "Epoch 109/250\n",
      "167/167 [==============================] - 0s 501us/step - loss: 1.9532e-05\n",
      "Epoch 110/250\n",
      "167/167 [==============================] - 0s 520us/step - loss: 1.9318e-05\n",
      "Epoch 111/250\n",
      "167/167 [==============================] - 0s 530us/step - loss: 1.9113e-05\n",
      "Epoch 112/250\n",
      "167/167 [==============================] - 0s 500us/step - loss: 1.8883e-05\n",
      "Epoch 113/250\n",
      "167/167 [==============================] - 0s 497us/step - loss: 1.8718e-05\n",
      "Epoch 114/250\n",
      "167/167 [==============================] - 0s 598us/step - loss: 1.8513e-05\n",
      "Epoch 115/250\n",
      "167/167 [==============================] - 0s 654us/step - loss: 1.8314e-05\n",
      "Epoch 116/250\n",
      "167/167 [==============================] - 0s 669us/step - loss: 1.8129e-05\n",
      "Epoch 117/250\n",
      "167/167 [==============================] - 0s 612us/step - loss: 1.7939e-05\n",
      "Epoch 118/250\n",
      "167/167 [==============================] - 0s 514us/step - loss: 1.7758e-05\n",
      "Epoch 119/250\n",
      "167/167 [==============================] - 0s 521us/step - loss: 1.7580e-05\n",
      "Epoch 120/250\n",
      "167/167 [==============================] - 0s 493us/step - loss: 1.7404e-05\n",
      "Epoch 121/250\n",
      "167/167 [==============================] - 0s 508us/step - loss: 1.7233e-05\n",
      "Epoch 122/250\n",
      "167/167 [==============================] - 0s 512us/step - loss: 1.7061e-05\n",
      "Epoch 123/250\n",
      "167/167 [==============================] - 0s 613us/step - loss: 1.6897e-05\n",
      "Epoch 124/250\n",
      "167/167 [==============================] - 0s 526us/step - loss: 1.6733e-05\n",
      "Epoch 125/250\n",
      "167/167 [==============================] - 0s 505us/step - loss: 1.6573e-05\n",
      "Epoch 126/250\n",
      "167/167 [==============================] - 0s 500us/step - loss: 1.6416e-05\n",
      "Epoch 127/250\n",
      "167/167 [==============================] - 0s 497us/step - loss: 1.6266e-05\n",
      "Epoch 128/250\n",
      "167/167 [==============================] - 0s 513us/step - loss: 1.6109e-05\n",
      "Epoch 129/250\n",
      "167/167 [==============================] - 0s 527us/step - loss: 1.5956e-05\n",
      "Epoch 130/250\n",
      "167/167 [==============================] - 0s 519us/step - loss: 1.5817e-05\n",
      "Epoch 131/250\n",
      "167/167 [==============================] - 0s 503us/step - loss: 1.5673e-05\n",
      "Epoch 132/250\n",
      "167/167 [==============================] - 0s 497us/step - loss: 1.5531e-05\n",
      "Epoch 133/250\n",
      "167/167 [==============================] - 0s 500us/step - loss: 1.5392e-05\n",
      "Epoch 134/250\n",
      "167/167 [==============================] - 0s 505us/step - loss: 1.5255e-05\n",
      "Epoch 135/250\n",
      "167/167 [==============================] - 0s 505us/step - loss: 1.5119e-05\n",
      "Epoch 136/250\n",
      "167/167 [==============================] - 0s 495us/step - loss: 1.4989e-05\n",
      "Epoch 137/250\n",
      "167/167 [==============================] - 0s 501us/step - loss: 1.4859e-05\n",
      "Epoch 138/250\n",
      "167/167 [==============================] - 0s 503us/step - loss: 1.4729e-05\n",
      "Epoch 139/250\n",
      "167/167 [==============================] - 0s 490us/step - loss: 1.4604e-05\n",
      "Epoch 140/250\n",
      "167/167 [==============================] - 0s 512us/step - loss: 1.4478e-05\n",
      "Epoch 141/250\n",
      "167/167 [==============================] - 0s 499us/step - loss: 1.4357e-05\n",
      "Epoch 142/250\n",
      "167/167 [==============================] - 0s 653us/step - loss: 1.4239e-05\n",
      "Epoch 143/250\n",
      "167/167 [==============================] - 0s 504us/step - loss: 1.4120e-05\n",
      "Epoch 144/250\n",
      "167/167 [==============================] - 0s 513us/step - loss: 1.4002e-05\n",
      "Epoch 145/250\n",
      "167/167 [==============================] - 0s 590us/step - loss: 1.3887e-05\n",
      "Epoch 146/250\n",
      "167/167 [==============================] - 0s 667us/step - loss: 1.3771e-05\n",
      "Epoch 147/250\n",
      "167/167 [==============================] - 0s 717us/step - loss: 1.3662e-05\n",
      "Epoch 148/250\n",
      "167/167 [==============================] - 0s 617us/step - loss: 1.3559e-05\n",
      "Epoch 149/250\n",
      "167/167 [==============================] - 0s 499us/step - loss: 1.3446e-05\n",
      "Epoch 150/250\n",
      "167/167 [==============================] - 0s 504us/step - loss: 1.3339e-05\n",
      "Epoch 151/250\n",
      "167/167 [==============================] - 0s 497us/step - loss: 1.3234e-05\n",
      "Epoch 152/250\n",
      "167/167 [==============================] - 0s 499us/step - loss: 1.3132e-05\n",
      "Epoch 153/250\n",
      "167/167 [==============================] - 0s 494us/step - loss: 1.3029e-05\n",
      "Epoch 154/250\n",
      "167/167 [==============================] - 0s 525us/step - loss: 1.2928e-05\n",
      "Epoch 155/250\n",
      "167/167 [==============================] - 0s 522us/step - loss: 1.2829e-05\n",
      "Epoch 156/250\n",
      "167/167 [==============================] - 0s 533us/step - loss: 1.2730e-05\n",
      "Epoch 157/250\n",
      "167/167 [==============================] - 0s 500us/step - loss: 1.2637e-05\n",
      "Epoch 158/250\n",
      "167/167 [==============================] - 0s 502us/step - loss: 1.2540e-05\n",
      "Epoch 159/250\n",
      "167/167 [==============================] - 0s 532us/step - loss: 1.2447e-05\n",
      "Epoch 160/250\n",
      "167/167 [==============================] - 0s 712us/step - loss: 1.2356e-05\n",
      "Epoch 161/250\n",
      "167/167 [==============================] - 0s 690us/step - loss: 1.2264e-05\n",
      "Epoch 162/250\n",
      "167/167 [==============================] - 0s 632us/step - loss: 1.2173e-05\n",
      "Epoch 163/250\n",
      "167/167 [==============================] - 0s 535us/step - loss: 1.2088e-05\n",
      "Epoch 164/250\n",
      "167/167 [==============================] - 0s 536us/step - loss: 1.1998e-05\n",
      "Epoch 165/250\n",
      "167/167 [==============================] - 0s 499us/step - loss: 1.1914e-05\n",
      "Epoch 166/250\n",
      "167/167 [==============================] - 0s 509us/step - loss: 1.1828e-05\n",
      "Epoch 167/250\n",
      "167/167 [==============================] - 0s 495us/step - loss: 1.1745e-05\n",
      "Epoch 168/250\n",
      "167/167 [==============================] - 0s 514us/step - loss: 1.1661e-05\n",
      "Epoch 169/250\n",
      "167/167 [==============================] - 0s 539us/step - loss: 1.1580e-05\n",
      "Epoch 170/250\n",
      "167/167 [==============================] - 0s 548us/step - loss: 1.1502e-05\n",
      "Epoch 171/250\n",
      "167/167 [==============================] - 0s 468us/step - loss: 1.1423e-05\n",
      "Epoch 172/250\n",
      "167/167 [==============================] - 0s 523us/step - loss: 1.1344e-05\n",
      "Epoch 173/250\n",
      "167/167 [==============================] - 0s 500us/step - loss: 1.1264e-05\n",
      "Epoch 174/250\n",
      "167/167 [==============================] - 0s 495us/step - loss: 1.1190e-05\n",
      "Epoch 175/250\n",
      "167/167 [==============================] - 0s 517us/step - loss: 1.1114e-05\n",
      "Epoch 176/250\n",
      "167/167 [==============================] - 0s 575us/step - loss: 1.1039e-05\n",
      "Epoch 177/250\n",
      "167/167 [==============================] - 0s 520us/step - loss: 1.0965e-05\n",
      "Epoch 178/250\n",
      "167/167 [==============================] - 0s 562us/step - loss: 1.0895e-05\n",
      "Epoch 179/250\n",
      "167/167 [==============================] - 0s 550us/step - loss: 1.0817e-05\n",
      "Epoch 180/250\n",
      "167/167 [==============================] - 0s 505us/step - loss: 1.0752e-05\n",
      "Epoch 181/250\n",
      "167/167 [==============================] - 0s 522us/step - loss: 1.0682e-05\n",
      "Epoch 182/250\n",
      "167/167 [==============================] - 0s 576us/step - loss: 1.0611e-05\n",
      "Epoch 183/250\n",
      "167/167 [==============================] - 0s 585us/step - loss: 1.0544e-05\n",
      "Epoch 184/250\n",
      "167/167 [==============================] - 0s 595us/step - loss: 1.0478e-05\n",
      "Epoch 185/250\n",
      "167/167 [==============================] - 0s 646us/step - loss: 1.0411e-05\n",
      "Epoch 186/250\n",
      "167/167 [==============================] - 0s 654us/step - loss: 1.0345e-05\n",
      "Epoch 187/250\n",
      "167/167 [==============================] - 0s 559us/step - loss: 1.0276e-05\n",
      "Epoch 188/250\n",
      "167/167 [==============================] - 0s 645us/step - loss: 1.0216e-05\n",
      "Epoch 189/250\n",
      "167/167 [==============================] - 0s 628us/step - loss: 1.0152e-05\n",
      "Epoch 190/250\n",
      "167/167 [==============================] - 0s 544us/step - loss: 1.0089e-05\n",
      "Epoch 191/250\n",
      "167/167 [==============================] - 0s 569us/step - loss: 1.0029e-05\n",
      "Epoch 192/250\n",
      "167/167 [==============================] - 0s 586us/step - loss: 9.9667e-06\n",
      "Epoch 193/250\n",
      "167/167 [==============================] - 0s 580us/step - loss: 9.9054e-06\n",
      "Epoch 194/250\n",
      "167/167 [==============================] - 0s 573us/step - loss: 9.8454e-06\n",
      "Epoch 195/250\n",
      "167/167 [==============================] - 0s 580us/step - loss: 9.7862e-06\n",
      "Epoch 196/250\n",
      "167/167 [==============================] - 0s 607us/step - loss: 9.7286e-06\n",
      "Epoch 197/250\n",
      "167/167 [==============================] - 0s 577us/step - loss: 9.6688e-06\n",
      "Epoch 198/250\n",
      "167/167 [==============================] - 0s 798us/step - loss: 9.6137e-06\n",
      "Epoch 199/250\n",
      "167/167 [==============================] - 0s 731us/step - loss: 9.5540e-06\n",
      "Epoch 200/250\n",
      "167/167 [==============================] - 0s 586us/step - loss: 9.4996e-06\n",
      "Epoch 201/250\n",
      "167/167 [==============================] - 0s 554us/step - loss: 9.4447e-06\n",
      "Epoch 202/250\n",
      "167/167 [==============================] - 0s 682us/step - loss: 9.3899e-06\n",
      "Epoch 203/250\n",
      "167/167 [==============================] - 0s 888us/step - loss: 9.3348e-06\n",
      "Epoch 204/250\n",
      "167/167 [==============================] - 0s 781us/step - loss: 9.2820e-06\n",
      "Epoch 205/250\n",
      "167/167 [==============================] - 0s 703us/step - loss: 9.2274e-06\n",
      "Epoch 206/250\n",
      "167/167 [==============================] - 0s 559us/step - loss: 9.1762e-06\n",
      "Epoch 207/250\n",
      "167/167 [==============================] - 0s 553us/step - loss: 9.1245e-06\n",
      "Epoch 208/250\n",
      "167/167 [==============================] - 0s 751us/step - loss: 9.0717e-06\n",
      "Epoch 209/250\n",
      "167/167 [==============================] - 0s 638us/step - loss: 9.0216e-06\n",
      "Epoch 210/250\n",
      "167/167 [==============================] - 0s 531us/step - loss: 8.9708e-06\n",
      "Epoch 211/250\n",
      "167/167 [==============================] - 0s 599us/step - loss: 8.9216e-06\n",
      "Epoch 212/250\n",
      "167/167 [==============================] - 0s 766us/step - loss: 8.8725e-06\n",
      "Epoch 213/250\n",
      "167/167 [==============================] - 0s 593us/step - loss: 8.8236e-06\n",
      "Epoch 214/250\n",
      "167/167 [==============================] - 0s 526us/step - loss: 8.7758e-06\n",
      "Epoch 215/250\n",
      "167/167 [==============================] - 0s 558us/step - loss: 8.7275e-06\n",
      "Epoch 216/250\n",
      "167/167 [==============================] - 0s 585us/step - loss: 8.6802e-06\n",
      "Epoch 217/250\n",
      "167/167 [==============================] - 0s 514us/step - loss: 8.6341e-06\n",
      "Epoch 218/250\n",
      "167/167 [==============================] - 0s 556us/step - loss: 8.5871e-06\n",
      "Epoch 219/250\n",
      "167/167 [==============================] - 0s 531us/step - loss: 8.5426e-06\n",
      "Epoch 220/250\n",
      "167/167 [==============================] - 0s 521us/step - loss: 8.4962e-06\n",
      "Epoch 221/250\n",
      "167/167 [==============================] - 0s 551us/step - loss: 8.4519e-06\n",
      "Epoch 222/250\n",
      "167/167 [==============================] - 0s 623us/step - loss: 8.4068e-06\n",
      "Epoch 223/250\n",
      "167/167 [==============================] - 0s 554us/step - loss: 8.3636e-06\n",
      "Epoch 224/250\n",
      "167/167 [==============================] - 0s 727us/step - loss: 8.3189e-06\n",
      "Epoch 225/250\n",
      "167/167 [==============================] - 0s 544us/step - loss: 8.2757e-06\n",
      "Epoch 226/250\n",
      "167/167 [==============================] - 0s 536us/step - loss: 8.2336e-06\n",
      "Epoch 227/250\n",
      "167/167 [==============================] - 0s 725us/step - loss: 8.1921e-06\n",
      "Epoch 228/250\n",
      "167/167 [==============================] - 0s 549us/step - loss: 8.1487e-06\n",
      "Epoch 229/250\n",
      "167/167 [==============================] - 0s 560us/step - loss: 8.1069e-06\n",
      "Epoch 230/250\n",
      "167/167 [==============================] - 0s 649us/step - loss: 8.0652e-06\n",
      "Epoch 231/250\n",
      "167/167 [==============================] - 0s 598us/step - loss: 8.0246e-06\n",
      "Epoch 232/250\n",
      "167/167 [==============================] - 0s 609us/step - loss: 7.9831e-06\n",
      "Epoch 233/250\n",
      "167/167 [==============================] - 0s 587us/step - loss: 7.9452e-06\n",
      "Epoch 234/250\n",
      "167/167 [==============================] - 0s 544us/step - loss: 7.9054e-06\n",
      "Epoch 235/250\n",
      "167/167 [==============================] - 0s 520us/step - loss: 7.8656e-06\n",
      "Epoch 236/250\n",
      "167/167 [==============================] - 0s 564us/step - loss: 7.8267e-06\n",
      "Epoch 237/250\n",
      "167/167 [==============================] - 0s 696us/step - loss: 7.7878e-06\n",
      "Epoch 238/250\n",
      "167/167 [==============================] - 0s 534us/step - loss: 7.7500e-06\n",
      "Epoch 239/250\n",
      "167/167 [==============================] - 0s 533us/step - loss: 7.7119e-06\n",
      "Epoch 240/250\n",
      "167/167 [==============================] - 0s 552us/step - loss: 7.6745e-06\n",
      "Epoch 241/250\n",
      "167/167 [==============================] - 0s 520us/step - loss: 7.6372e-06\n",
      "Epoch 242/250\n",
      "167/167 [==============================] - 0s 567us/step - loss: 7.6003e-06\n",
      "Epoch 243/250\n",
      "167/167 [==============================] - 0s 544us/step - loss: 7.5636e-06\n",
      "Epoch 244/250\n",
      "167/167 [==============================] - 0s 507us/step - loss: 7.5282e-06\n",
      "Epoch 245/250\n",
      "167/167 [==============================] - 0s 692us/step - loss: 7.4917e-06\n",
      "Epoch 246/250\n",
      "167/167 [==============================] - 0s 596us/step - loss: 7.4561e-06\n",
      "Epoch 247/250\n",
      "167/167 [==============================] - 0s 612us/step - loss: 7.4208e-06\n",
      "Epoch 248/250\n",
      "167/167 [==============================] - 0s 558us/step - loss: 7.3865e-06\n",
      "Epoch 249/250\n",
      "167/167 [==============================] - 0s 542us/step - loss: 7.3519e-06\n",
      "Epoch 250/250\n",
      "167/167 [==============================] - 0s 518us/step - loss: 7.3175e-06\n",
      "[0 0 0 ... 0 0 0] [0. 0. 0. ... 0. 0. 0.]\n",
      "Precision = [0.78687295 0.        ]\n",
      "Recall= [1. 0.]\n",
      "F1 Score = [0.88072624 0.        ]\n",
      "Accuracy0.7868729488982653\n"
     ]
    },
    {
     "name": "stderr",
     "output_type": "stream",
     "text": [
      "/opt/anaconda3/lib/python3.7/site-packages/sklearn/metrics/_classification.py:1221: UndefinedMetricWarning: Precision and F-score are ill-defined and being set to 0.0 in labels with no predicted samples. Use `zero_division` parameter to control this behavior.\n",
      "  _warn_prf(average, modifier, msg_start, len(result))\n"
     ]
    }
   ],
   "source": [
    "# Create linear Keras model.\n",
    "layers = []\n",
    "layers.append(tf.keras.Input(shape=(x_train.shape[-1],)))\n",
    "layers.append(tf.keras.layers.Dense(32, activation='relu')) \n",
    "layers.append(tf.keras.layers.Dense(32, activation='relu')) \n",
    "layers.append(tf.keras.layers.Dense(1))\n",
    "model = tf.keras.Sequential(layers)\n",
    "model.summary()\n",
    "\n",
    "optimizer = tf.keras.optimizers.Adagrad(learning_rate=0.1)\n",
    "\n",
    "#var_list = (\n",
    "    #optimizer.trainable_variables())\n",
    "    \n",
    "# for ii in range(num_steps):\n",
    "#   # Indices for current batch; cycle back once we reach the end of stream.\n",
    "#   batch_indices = np.arange(ii * batch_size, (ii + 1) * batch_size)\n",
    "#   batch_indices = [ind % num_examples for ind in batch_indices]\n",
    "#   loss_fn =lambda y_true, y_pred: tf.keras.losses.binary_crossentropy(\n",
    "#       y_true, y_pred, from_logits=True)\n",
    "\n",
    "#   #First run update ops, and then gradient update.\n",
    "#   update_ops_fn()\n",
    "#   optimizer.minimize(loss_fn, var_list=model.trainable_weights, y_true, y_pred)\n",
    "\n",
    "\n",
    "loss = lambda y_true, y_pred: tf.keras.losses.binary_crossentropy(\n",
    "    y_true, y_pred, from_logits=True)\n",
    "\n",
    "opt = tf.keras.optimizers.Adagrad(learning_rate=0.1)\n",
    "model.compile(optimizer=opt, loss=loss)\n",
    "model.fit(x=x_train, y=y_train, batch_size=128, epochs=250)\n",
    "\n",
    "\n",
    "y_pred = model.predict(x_test)\n",
    "pred_labels = np.argmax(y_pred, axis=1)\n",
    "print(pred_labels, y_test)\n",
    "\n",
    "\n",
    "\n",
    "precisions, recall, f1_score, true_sum = metrics.precision_recall_fscore_support(y_test, pred_labels)\n",
    "\n",
    "print(\"Precision =\", precisions)\n",
    "print(\"Recall=\", recall)\n",
    "print(\"F1 Score =\", f1_score)\n",
    "accuracy_score = metrics.accuracy_score(y_test, pred_labels)\n",
    "print('Accuracy' + str(accuracy_score))"
   ]
  },
  {
   "cell_type": "markdown",
   "metadata": {
    "colab_type": "text",
    "id": "BTGOcqe0pO5a"
   },
   "source": [
    "# (2a) PR-AUC Training with Custom Estimators"
   ]
  },
  {
   "cell_type": "markdown",
   "metadata": {
    "colab_type": "text",
    "id": "uppYKix2-SdA"
   },
   "source": [
    "We next show how one can use TFCO to optimize PR-AUC using custom tf.Estimators.\n",
    "\n",
    "We first create `feature_columns` to convert the dataset into a format that can be processed by an estimator."
   ]
  },
  {
   "cell_type": "code",
   "execution_count": 46,
   "metadata": {
    "colab": {},
    "colab_type": "code",
    "id": "_klY8Dqueag_"
   },
   "outputs": [],
   "source": [
    "feature_columns = []\n",
    "for feature_name in x_train_df.columns:\n",
    "  feature_columns.append(\n",
    "      tf.feature_column.numeric_column(feature_name, dtype=tf.float32))"
   ]
  },
  {
   "cell_type": "markdown",
   "metadata": {
    "colab_type": "text",
    "id": "jyaRvuOXAGt-"
   },
   "source": [
    "We next construct the input functions that return the data to be used by the estimator for training/evaluation."
   ]
  },
  {
   "cell_type": "code",
   "execution_count": 47,
   "metadata": {
    "colab": {},
    "colab_type": "code",
    "id": "HoEGUpg9pTdD"
   },
   "outputs": [],
   "source": [
    "def make_input_fn(\n",
    "    data_df, label_df, num_epochs=10, shuffle=True, batch_size=32):\n",
    "  def input_fn():\n",
    "    ds = tf.data.Dataset.from_tensor_slices((dict(data_df), label_df))\n",
    "    if shuffle:\n",
    "      ds = ds.shuffle(1000)\n",
    "    ds = ds.batch(batch_size).repeat(num_epochs)\n",
    "    return ds\n",
    "  return input_fn\n",
    "\n",
    "train_input_fn = make_input_fn(x_train_df, y_train_df, num_epochs=25)\n",
    "test_input_fn = make_input_fn(x_test_df, y_test_df, num_epochs=1, shuffle=False)"
   ]
  },
  {
   "cell_type": "markdown",
   "metadata": {
    "colab_type": "text",
    "id": "QSw7IHgKA5NC"
   },
   "source": [
    "We then write the model function that is used by the estimator to create the model, loss, optimizers and metrics."
   ]
  },
  {
   "cell_type": "code",
   "execution_count": 48,
   "metadata": {
    "colab": {},
    "colab_type": "code",
    "id": "fUD8PAddptO7"
   },
   "outputs": [],
   "source": [
    "def make_model_fn_pr_auc(feature_columns):\n",
    "  # Returns model_fn.\n",
    "\n",
    "  def model_fn(features, labels, mode):\n",
    "    # Create model from features.\n",
    "    layers = []\n",
    "    layers.append(tf.keras.layers.DenseFeatures(feature_columns))\n",
    "    layers.append(tf.keras.layers.Dense(1))\n",
    "    model = tf.keras.Sequential(layers)\n",
    "    logits = model(features)\n",
    "\n",
    "    # Baseline cross-entropy loss.\n",
    "    baseline_loss_fn = tf.keras.losses.BinaryCrossentropy(from_logits=True)\n",
    "    baseline_loss = baseline_loss_fn(labels, logits)\n",
    "\n",
    "    # As a slight variant from the above previous training, we will optimize a \n",
    "    # weighted combination of PR-AUC and the baseline loss.\n",
    "    baseline_coef = 0.2\n",
    "    \n",
    "    train_op = None\n",
    "    if mode == tf.estimator.ModeKeys.TRAIN:\n",
    "      # Set up PR-AUC optimization problem.\n",
    "      # Create context with labels and predictions.\n",
    "      context = tfco.rate_context(logits, labels)\n",
    "\n",
    "      # Create optimization problem with PR-AUC as the objective. The library\n",
    "      # expects a minimization objective, so we negate the PR-AUC. We optimize\n",
    "      # a convex combination of (negative) PR-AUC and the baseline loss (wrapped\n",
    "      # in a rate object).\n",
    "      pr_auc_rate = tfco.pr_auc(\n",
    "          context, bins=10, penalty_loss=tfco.SoftmaxCrossEntropyLoss())\n",
    "      problem = tfco.RateMinimizationProblem(\n",
    "          (1 - baseline_coef) * (-pr_auc_rate) + \n",
    "          baseline_coef * tfco.wrap_rate(baseline_loss))\n",
    "\n",
    "      # Create Lagrangian loss for `problem`. What we get back is a loss \n",
    "      # function, a nullary function that returns a list of update_ops that \n",
    "      # need to be run before every gradient update, and the Lagrange \n",
    "      # multipliers maintained internally by the loss.\n",
    "      # The argument `dual_scale` is a hyper-parameter that specifies the  \n",
    "      # relative importance placed on updates on the Lagrange multipliers.\n",
    "      loss_fn, update_ops_fn, multipliers = tfco.create_lagrangian_loss(\n",
    "          problem, dual_scale=1.0)\n",
    "      \n",
    "      # Set up optimizer and the list of variables to optimize the loss.\n",
    "      optimizer = tf.keras.optimizers.Adagrad(learning_rate=0.1)\n",
    "      optimizer.iterations = tf.compat.v1.train.get_or_create_global_step()\n",
    "      \n",
    "      # Get minimize op and group with update_ops.\n",
    "      var_list = (\n",
    "          model.trainable_weights + problem.trainable_variables + [multipliers])\n",
    "      minimize_op = optimizer.get_updates(loss_fn(), var_list)\n",
    "      update_ops = update_ops_fn()\n",
    "      train_op = tf.group(*update_ops, minimize_op)\n",
    "\n",
    "    # Evaluate PR-AUC.\n",
    "    pr_auc_metric = tf.keras.metrics.AUC(curve='PR')\n",
    "    pr_auc_metric.update_state(labels, tf.sigmoid(logits))\n",
    "\n",
    "    # We do not use the Lagrangian loss for evaluation/bookkeeping\n",
    "    # purposes as it depends on some internal variables that may not be\n",
    "    # set properly during evaluation time. We instead pass loss=baseline_loss.\n",
    "    return tf.estimator.EstimatorSpec(\n",
    "        mode=mode, \n",
    "        predictions=logits, \n",
    "        loss=baseline_loss,\n",
    "        train_op=train_op,\n",
    "        eval_metric_ops={'PR-AUC': pr_auc_metric})\n",
    "    \n",
    "  return model_fn"
   ]
  },
  {
   "cell_type": "code",
   "execution_count": 49,
   "metadata": {},
   "outputs": [
    {
     "name": "stdout",
     "output_type": "stream",
     "text": [
      "INFO:tensorflow:Using default config.\n",
      "INFO:tensorflow:Using config: {'_model_dir': 'tfco_tmp', '_tf_random_seed': None, '_save_summary_steps': 100, '_save_checkpoints_steps': None, '_save_checkpoints_secs': 600, '_session_config': allow_soft_placement: true\n",
      "graph_options {\n",
      "  rewrite_options {\n",
      "    meta_optimizer_iterations: ONE\n",
      "  }\n",
      "}\n",
      ", '_keep_checkpoint_max': 5, '_keep_checkpoint_every_n_hours': 10000, '_log_step_count_steps': 100, '_train_distribute': None, '_device_fn': None, '_protocol': None, '_eval_distribute': None, '_experimental_distribute': None, '_experimental_max_worker_delay_secs': None, '_session_creation_timeout_secs': 7200, '_service': None, '_cluster_spec': ClusterSpec({}), '_task_type': 'worker', '_task_id': 0, '_global_id_in_cluster': 0, '_master': '', '_evaluation_master': '', '_is_chief': True, '_num_ps_replicas': 0, '_num_worker_replicas': 1}\n",
      "WARNING:tensorflow:From /opt/anaconda3/lib/python3.7/site-packages/tensorflow/python/training/training_util.py:236: Variable.initialized_value (from tensorflow.python.ops.variables) is deprecated and will be removed in a future version.\n",
      "Instructions for updating:\n",
      "Use Variable.read_value. Variables in 2.X are initialized automatically both in eager and graph (inside tf.defun) contexts.\n",
      "INFO:tensorflow:Calling model_fn.\n",
      "WARNING:tensorflow:Layers in a Sequential model should only have a single input tensor, but we receive a <class 'dict'> input: {'STATEID': <tf.Tensor 'IteratorGetNext:16' shape=(None,) dtype=float32>, 'DISTID': <tf.Tensor 'IteratorGetNext:0' shape=(None,) dtype=float32>, 'PSUID': <tf.Tensor 'IteratorGetNext:1' shape=(None,) dtype=float32>, 'SCHOOLID': <tf.Tensor 'IteratorGetNext:2' shape=(None,) dtype=float32>, 'SQGOVT': <tf.Tensor 'IteratorGetNext:3' shape=(None,) dtype=float32>, 'SS1': <tf.Tensor 'IteratorGetNext:4' shape=(None,) dtype=float32>, 'SS3': <tf.Tensor 'IteratorGetNext:9' shape=(None,) dtype=float32>, 'SS4': <tf.Tensor 'IteratorGetNext:10' shape=(None,) dtype=float32>, 'SS5': <tf.Tensor 'IteratorGetNext:11' shape=(None,) dtype=float32>, 'SS6': <tf.Tensor 'IteratorGetNext:12' shape=(None,) dtype=float32>, 'SS7': <tf.Tensor 'IteratorGetNext:13' shape=(None,) dtype=float32>, 'SS8': <tf.Tensor 'IteratorGetNext:14' shape=(None,) dtype=float32>, 'SS9': <tf.Tensor 'IteratorGetNext:15' shape=(None,) dtype=float32>, 'SS10': <tf.Tensor 'IteratorGetNext:5' shape=(None,) dtype=float32>, 'SS11': <tf.Tensor 'IteratorGetNext:6' shape=(None,) dtype=float32>, 'SS12': <tf.Tensor 'IteratorGetNext:7' shape=(None,) dtype=float32>, 'SS13': <tf.Tensor 'IteratorGetNext:8' shape=(None,) dtype=float32>}\n",
      "Consider rewriting this model with the Functional API.\n",
      "WARNING:tensorflow:From /opt/anaconda3/lib/python3.7/site-packages/tensorflow/python/keras/optimizer_v2/adagrad.py:83: calling Constant.__init__ (from tensorflow.python.ops.init_ops) with dtype is deprecated and will be removed in a future version.\n",
      "Instructions for updating:\n",
      "Call initializer instance with the dtype argument instead of passing it to the constructor\n",
      "INFO:tensorflow:Done calling model_fn.\n",
      "INFO:tensorflow:Create CheckpointSaverHook.\n",
      "INFO:tensorflow:Graph was finalized.\n",
      "INFO:tensorflow:Running local_init_op.\n",
      "INFO:tensorflow:Done running local_init_op.\n",
      "INFO:tensorflow:Calling checkpoint listeners before saving checkpoint 0...\n",
      "INFO:tensorflow:Saving checkpoints for 0 into tfco_tmp/model.ckpt.\n",
      "INFO:tensorflow:Calling checkpoint listeners after saving checkpoint 0...\n",
      "INFO:tensorflow:loss = 2.164241, step = 0\n",
      "INFO:tensorflow:global_step/sec: 63.4201\n",
      "INFO:tensorflow:loss = 0.39134467, step = 100 (1.577 sec)\n",
      "INFO:tensorflow:global_step/sec: 246.811\n",
      "INFO:tensorflow:loss = 0.356475, step = 200 (0.405 sec)\n",
      "INFO:tensorflow:Calling checkpoint listeners before saving checkpoint 250...\n",
      "INFO:tensorflow:Saving checkpoints for 250 into tfco_tmp/model.ckpt.\n",
      "INFO:tensorflow:Calling checkpoint listeners after saving checkpoint 250...\n",
      "INFO:tensorflow:Loss for final step: 0.34849274.\n"
     ]
    },
    {
     "data": {
      "text/plain": [
       "<tensorflow_estimator.python.estimator.estimator.EstimatorV2 at 0x7fa43dc282d0>"
      ]
     },
     "execution_count": 49,
     "metadata": {},
     "output_type": "execute_result"
    }
   ],
   "source": [
    "# Create a temporary model directory.\n",
    "model_dir = \"tfco_tmp\"\n",
    "if os.path.exists(model_dir):\n",
    "  shutil.rmtree(model_dir)\n",
    "\n",
    "# Train estimator.\n",
    "estimator_lin = tf.estimator.Estimator(\n",
    "    make_model_fn_pr_auc(feature_columns), model_dir=model_dir)\n",
    "estimator_lin.train(train_input_fn, steps=250) "
   ]
  },
  {
   "cell_type": "code",
   "execution_count": 50,
   "metadata": {},
   "outputs": [
    {
     "name": "stdout",
     "output_type": "stream",
     "text": [
      "INFO:tensorflow:Calling model_fn.\n",
      "WARNING:tensorflow:Layers in a Sequential model should only have a single input tensor, but we receive a <class 'dict'> input: {'STATEID': <tf.Tensor 'IteratorGetNext:16' shape=(None,) dtype=float32>, 'DISTID': <tf.Tensor 'IteratorGetNext:0' shape=(None,) dtype=float32>, 'PSUID': <tf.Tensor 'IteratorGetNext:1' shape=(None,) dtype=float32>, 'SCHOOLID': <tf.Tensor 'IteratorGetNext:2' shape=(None,) dtype=float32>, 'SQGOVT': <tf.Tensor 'IteratorGetNext:3' shape=(None,) dtype=float32>, 'SS1': <tf.Tensor 'IteratorGetNext:4' shape=(None,) dtype=float32>, 'SS3': <tf.Tensor 'IteratorGetNext:9' shape=(None,) dtype=float32>, 'SS4': <tf.Tensor 'IteratorGetNext:10' shape=(None,) dtype=float32>, 'SS5': <tf.Tensor 'IteratorGetNext:11' shape=(None,) dtype=float32>, 'SS6': <tf.Tensor 'IteratorGetNext:12' shape=(None,) dtype=float32>, 'SS7': <tf.Tensor 'IteratorGetNext:13' shape=(None,) dtype=float32>, 'SS8': <tf.Tensor 'IteratorGetNext:14' shape=(None,) dtype=float32>, 'SS9': <tf.Tensor 'IteratorGetNext:15' shape=(None,) dtype=float32>, 'SS10': <tf.Tensor 'IteratorGetNext:5' shape=(None,) dtype=float32>, 'SS11': <tf.Tensor 'IteratorGetNext:6' shape=(None,) dtype=float32>, 'SS12': <tf.Tensor 'IteratorGetNext:7' shape=(None,) dtype=float32>, 'SS13': <tf.Tensor 'IteratorGetNext:8' shape=(None,) dtype=float32>}\n",
      "Consider rewriting this model with the Functional API.\n",
      "INFO:tensorflow:Done calling model_fn.\n",
      "INFO:tensorflow:Starting evaluation at 2020-10-08T11:33:25Z\n",
      "INFO:tensorflow:Graph was finalized.\n",
      "INFO:tensorflow:Restoring parameters from tfco_tmp/model.ckpt-250\n",
      "INFO:tensorflow:Running local_init_op.\n",
      "INFO:tensorflow:Done running local_init_op.\n",
      "INFO:tensorflow:Inference Time : 0.44148s\n",
      "INFO:tensorflow:Finished evaluation at 2020-10-08-11:33:25\n",
      "INFO:tensorflow:Saving dict for global step 250: PR-AUC = 0.9554919, global_step = 250, loss = 0.39580733\n",
      "INFO:tensorflow:Saving 'checkpoint_path' summary for global step 250: tfco_tmp/model.ckpt-250\n"
     ]
    },
    {
     "data": {
      "text/plain": [
       "{'PR-AUC': 0.9554919, 'loss': 0.39580733, 'global_step': 250}"
      ]
     },
     "execution_count": 50,
     "metadata": {},
     "output_type": "execute_result"
    }
   ],
   "source": [
    "estimator_lin.evaluate(test_input_fn)"
   ]
  },
  {
   "cell_type": "markdown",
   "metadata": {},
   "source": [
    "## (2b) ROC-AUC Training with Custom Estimators"
   ]
  },
  {
   "cell_type": "code",
   "execution_count": 51,
   "metadata": {},
   "outputs": [],
   "source": [
    "def make_model_fn_roc_auc(feature_columns):\n",
    "  # Returns model_fn.\n",
    "\n",
    "  def model_fn(features, labels, mode):\n",
    "    # Create model from features.\n",
    "    layers = []\n",
    "    layers.append(tf.keras.layers.DenseFeatures(feature_columns))\n",
    "    layers.append(tf.keras.layers.Dense(1))\n",
    "    model = tf.keras.Sequential(layers)\n",
    "    logits = model(features)\n",
    "\n",
    "    # Baseline cross-entropy loss.\n",
    "    baseline_loss_fn = tf.keras.losses.BinaryCrossentropy(from_logits=True)\n",
    "    baseline_loss = baseline_loss_fn(labels, logits)\n",
    "\n",
    "    # As a slight variant from the above previous training, we will optimize a \n",
    "    # weighted combination of ROC-AUC and the baseline loss.\n",
    "    baseline_coef = 0.2\n",
    "    \n",
    "    train_op = None\n",
    "    if mode == tf.estimator.ModeKeys.TRAIN:\n",
    "      # Set up ROC-AUC optimization problem.\n",
    "      # Create context with labels and predictions.\n",
    "      context = tfco.rate_context(logits, labels)\n",
    "\n",
    "      # Create optimization problem with ROC-AUC as the objective. The library\n",
    "      # expects a minimization objective, so we negate the PR-AUC. We optimize\n",
    "      # a convex combination of (negative) ROC-AUC and the baseline loss (wrapped\n",
    "      # in a rate object).\n",
    "      roc_auc_rate = tfco.roc_auc(\n",
    "          context, bins=10, penalty_loss=tfco.SoftmaxCrossEntropyLoss())\n",
    "      problem = tfco.RateMinimizationProblem(\n",
    "          (1 - baseline_coef) * (-roc_auc_rate) + \n",
    "          baseline_coef * tfco.wrap_rate(baseline_loss))\n",
    "\n",
    "      # Create Lagrangian loss for `problem`. What we get back is a loss \n",
    "      # function, a nullary function that returns a list of update_ops that \n",
    "      # need to be run before every gradient update, and the Lagrange \n",
    "      # multipliers maintained internally by the loss.\n",
    "      # The argument `dual_scale` is a hyper-parameter that specifies the  \n",
    "      # relative importance placed on updates on the Lagrange multipliers.\n",
    "      loss_fn, update_ops_fn, multipliers = tfco.create_lagrangian_loss(\n",
    "          problem, dual_scale=1.0)\n",
    "      \n",
    "      # Set up optimizer and the list of variables to optimize the loss.\n",
    "      optimizer = tf.keras.optimizers.Adagrad(learning_rate=0.1)\n",
    "      optimizer.iterations = tf.compat.v1.train.get_or_create_global_step()\n",
    "      \n",
    "      # Get minimize op and group with update_ops.\n",
    "      var_list = (\n",
    "          model.trainable_weights + problem.trainable_variables + [multipliers])\n",
    "      minimize_op = optimizer.get_updates(loss_fn(), var_list)\n",
    "      update_ops = update_ops_fn()\n",
    "      train_op = tf.group(*update_ops, minimize_op)\n",
    "\n",
    "    # Evaluate ROC-AUC.\n",
    "    roc_auc_metric = tf.keras.metrics.AUC(curve='ROC')\n",
    "    roc_auc_metric.update_state(labels, tf.sigmoid(logits))\n",
    "\n",
    "    # We do not use the Lagrangian loss for evaluation/bookkeeping\n",
    "    # purposes as it depends on some internal variables that may not be\n",
    "    # set properly during evaluation time. We instead pass loss=baseline_loss.\n",
    "    return tf.estimator.EstimatorSpec(\n",
    "        mode=mode, \n",
    "        predictions=logits, \n",
    "        loss=baseline_loss,\n",
    "        train_op=train_op,\n",
    "        eval_metric_ops={'ROC-AUC': roc_auc_metric})\n",
    "    \n",
    "  return model_fn"
   ]
  },
  {
   "cell_type": "markdown",
   "metadata": {
    "colab_type": "text",
    "id": "4kc3_ftIBC6Y"
   },
   "source": [
    "We are now ready to train the estimator."
   ]
  },
  {
   "cell_type": "code",
   "execution_count": 52,
   "metadata": {
    "colab": {
     "base_uri": "https://localhost:8080/",
     "height": 676
    },
    "colab_type": "code",
    "id": "TImVz7WMp-Nb",
    "outputId": "d8f64525-dba6-46b2-a7e6-39d05c0a5d85"
   },
   "outputs": [
    {
     "name": "stdout",
     "output_type": "stream",
     "text": [
      "INFO:tensorflow:Using default config.\n",
      "INFO:tensorflow:Using config: {'_model_dir': 'tfco_tmp', '_tf_random_seed': None, '_save_summary_steps': 100, '_save_checkpoints_steps': None, '_save_checkpoints_secs': 600, '_session_config': allow_soft_placement: true\n",
      "graph_options {\n",
      "  rewrite_options {\n",
      "    meta_optimizer_iterations: ONE\n",
      "  }\n",
      "}\n",
      ", '_keep_checkpoint_max': 5, '_keep_checkpoint_every_n_hours': 10000, '_log_step_count_steps': 100, '_train_distribute': None, '_device_fn': None, '_protocol': None, '_eval_distribute': None, '_experimental_distribute': None, '_experimental_max_worker_delay_secs': None, '_session_creation_timeout_secs': 7200, '_service': None, '_cluster_spec': ClusterSpec({}), '_task_type': 'worker', '_task_id': 0, '_global_id_in_cluster': 0, '_master': '', '_evaluation_master': '', '_is_chief': True, '_num_ps_replicas': 0, '_num_worker_replicas': 1}\n",
      "INFO:tensorflow:Calling model_fn.\n",
      "WARNING:tensorflow:Layers in a Sequential model should only have a single input tensor, but we receive a <class 'dict'> input: {'STATEID': <tf.Tensor 'IteratorGetNext:16' shape=(None,) dtype=float32>, 'DISTID': <tf.Tensor 'IteratorGetNext:0' shape=(None,) dtype=float32>, 'PSUID': <tf.Tensor 'IteratorGetNext:1' shape=(None,) dtype=float32>, 'SCHOOLID': <tf.Tensor 'IteratorGetNext:2' shape=(None,) dtype=float32>, 'SQGOVT': <tf.Tensor 'IteratorGetNext:3' shape=(None,) dtype=float32>, 'SS1': <tf.Tensor 'IteratorGetNext:4' shape=(None,) dtype=float32>, 'SS3': <tf.Tensor 'IteratorGetNext:9' shape=(None,) dtype=float32>, 'SS4': <tf.Tensor 'IteratorGetNext:10' shape=(None,) dtype=float32>, 'SS5': <tf.Tensor 'IteratorGetNext:11' shape=(None,) dtype=float32>, 'SS6': <tf.Tensor 'IteratorGetNext:12' shape=(None,) dtype=float32>, 'SS7': <tf.Tensor 'IteratorGetNext:13' shape=(None,) dtype=float32>, 'SS8': <tf.Tensor 'IteratorGetNext:14' shape=(None,) dtype=float32>, 'SS9': <tf.Tensor 'IteratorGetNext:15' shape=(None,) dtype=float32>, 'SS10': <tf.Tensor 'IteratorGetNext:5' shape=(None,) dtype=float32>, 'SS11': <tf.Tensor 'IteratorGetNext:6' shape=(None,) dtype=float32>, 'SS12': <tf.Tensor 'IteratorGetNext:7' shape=(None,) dtype=float32>, 'SS13': <tf.Tensor 'IteratorGetNext:8' shape=(None,) dtype=float32>}\n",
      "Consider rewriting this model with the Functional API.\n",
      "INFO:tensorflow:Done calling model_fn.\n",
      "INFO:tensorflow:Create CheckpointSaverHook.\n",
      "INFO:tensorflow:Graph was finalized.\n",
      "INFO:tensorflow:Running local_init_op.\n",
      "INFO:tensorflow:Done running local_init_op.\n",
      "INFO:tensorflow:Calling checkpoint listeners before saving checkpoint 0...\n",
      "INFO:tensorflow:Saving checkpoints for 0 into tfco_tmp/model.ckpt.\n",
      "INFO:tensorflow:Calling checkpoint listeners after saving checkpoint 0...\n",
      "INFO:tensorflow:loss = 8.582456, step = 0\n",
      "INFO:tensorflow:global_step/sec: 77.6791\n",
      "INFO:tensorflow:loss = 0.48806846, step = 100 (1.288 sec)\n",
      "INFO:tensorflow:global_step/sec: 291.396\n",
      "INFO:tensorflow:loss = 0.3783787, step = 200 (0.343 sec)\n",
      "INFO:tensorflow:Calling checkpoint listeners before saving checkpoint 250...\n",
      "INFO:tensorflow:Saving checkpoints for 250 into tfco_tmp/model.ckpt.\n",
      "INFO:tensorflow:Calling checkpoint listeners after saving checkpoint 250...\n",
      "INFO:tensorflow:Loss for final step: 0.36281124.\n"
     ]
    },
    {
     "data": {
      "text/plain": [
       "<tensorflow_estimator.python.estimator.estimator.EstimatorV2 at 0x7fa424a7a350>"
      ]
     },
     "execution_count": 52,
     "metadata": {},
     "output_type": "execute_result"
    }
   ],
   "source": [
    "# Create a temporary model directory.\n",
    "model_dir = \"tfco_tmp\"\n",
    "if os.path.exists(model_dir):\n",
    "  shutil.rmtree(model_dir)\n",
    "\n",
    "# Train estimator.\n",
    "estimator_lin = tf.estimator.Estimator(\n",
    "    make_model_fn_roc_auc(feature_columns), model_dir=model_dir)\n",
    "estimator_lin.train(train_input_fn, steps=250) "
   ]
  },
  {
   "cell_type": "markdown",
   "metadata": {
    "colab_type": "text",
    "id": "iYkWYCgvBGJA"
   },
   "source": [
    "Finally, we evaluate the trained model on the test set."
   ]
  },
  {
   "cell_type": "code",
   "execution_count": 53,
   "metadata": {
    "colab": {
     "base_uri": "https://localhost:8080/",
     "height": 230
    },
    "colab_type": "code",
    "id": "iiB6oG2fqC7S",
    "outputId": "043ce405-99f7-48a7-d2de-d60708017a30"
   },
   "outputs": [
    {
     "name": "stdout",
     "output_type": "stream",
     "text": [
      "INFO:tensorflow:Calling model_fn.\n",
      "WARNING:tensorflow:Layers in a Sequential model should only have a single input tensor, but we receive a <class 'dict'> input: {'STATEID': <tf.Tensor 'IteratorGetNext:16' shape=(None,) dtype=float32>, 'DISTID': <tf.Tensor 'IteratorGetNext:0' shape=(None,) dtype=float32>, 'PSUID': <tf.Tensor 'IteratorGetNext:1' shape=(None,) dtype=float32>, 'SCHOOLID': <tf.Tensor 'IteratorGetNext:2' shape=(None,) dtype=float32>, 'SQGOVT': <tf.Tensor 'IteratorGetNext:3' shape=(None,) dtype=float32>, 'SS1': <tf.Tensor 'IteratorGetNext:4' shape=(None,) dtype=float32>, 'SS3': <tf.Tensor 'IteratorGetNext:9' shape=(None,) dtype=float32>, 'SS4': <tf.Tensor 'IteratorGetNext:10' shape=(None,) dtype=float32>, 'SS5': <tf.Tensor 'IteratorGetNext:11' shape=(None,) dtype=float32>, 'SS6': <tf.Tensor 'IteratorGetNext:12' shape=(None,) dtype=float32>, 'SS7': <tf.Tensor 'IteratorGetNext:13' shape=(None,) dtype=float32>, 'SS8': <tf.Tensor 'IteratorGetNext:14' shape=(None,) dtype=float32>, 'SS9': <tf.Tensor 'IteratorGetNext:15' shape=(None,) dtype=float32>, 'SS10': <tf.Tensor 'IteratorGetNext:5' shape=(None,) dtype=float32>, 'SS11': <tf.Tensor 'IteratorGetNext:6' shape=(None,) dtype=float32>, 'SS12': <tf.Tensor 'IteratorGetNext:7' shape=(None,) dtype=float32>, 'SS13': <tf.Tensor 'IteratorGetNext:8' shape=(None,) dtype=float32>}\n",
      "Consider rewriting this model with the Functional API.\n",
      "INFO:tensorflow:Done calling model_fn.\n",
      "INFO:tensorflow:Starting evaluation at 2020-10-08T11:33:34Z\n",
      "INFO:tensorflow:Graph was finalized.\n",
      "INFO:tensorflow:Restoring parameters from tfco_tmp/model.ckpt-250\n",
      "INFO:tensorflow:Running local_init_op.\n",
      "INFO:tensorflow:Done running local_init_op.\n",
      "INFO:tensorflow:Inference Time : 0.45977s\n",
      "INFO:tensorflow:Finished evaluation at 2020-10-08-11:33:34\n",
      "INFO:tensorflow:Saving dict for global step 250: ROC-AUC = 0.9972118, global_step = 250, loss = 0.42947346\n",
      "INFO:tensorflow:Saving 'checkpoint_path' summary for global step 250: tfco_tmp/model.ckpt-250\n"
     ]
    },
    {
     "data": {
      "text/plain": [
       "{'ROC-AUC': 0.9972118, 'loss': 0.42947346, 'global_step': 250}"
      ]
     },
     "execution_count": 53,
     "metadata": {},
     "output_type": "execute_result"
    }
   ],
   "source": [
    "estimator_lin.evaluate(test_input_fn)"
   ]
  },
  {
   "cell_type": "markdown",
   "metadata": {
    "colab_type": "text",
    "id": "6xU1eK4GVKd_"
   },
   "source": [
    "## Closing Remarks"
   ]
  },
  {
   "cell_type": "markdown",
   "metadata": {
    "colab_type": "text",
    "id": "zjzlHyFnC7d3"
   },
   "source": [
    "Before closing, we point out that there are three main hyper-paramters you may want to tune to improve the PR-AUC training:\n",
    "\n",
    "- `learning_rate`\n",
    "- `dual_scale`\n",
    "- `baseline_coeff`\n",
    "\n",
    "We may also be interested in exploring helpers for other similar metrics that TFCO allows you to optimize: Lets expore them in the beneatah cells.\n",
    "- `tfco.precision_at_recall`\n",
    "- `tfco.recall_at_precision`\n",
    "- `tfco.inverse_precision_at_recall`"
   ]
  },
  {
   "cell_type": "markdown",
   "metadata": {},
   "source": [
    "# (2c) Precision_At_Recall Training with Custom Estimators"
   ]
  },
  {
   "cell_type": "code",
   "execution_count": 54,
   "metadata": {},
   "outputs": [],
   "source": [
    "def make_model_fn_precision_at_recall(feature_columns):\n",
    "  # Returns model_fn.\n",
    "\n",
    "  def model_fn(features, labels, mode):\n",
    "    # Create model from features.\n",
    "    layers = []\n",
    "    layers.append(tf.keras.layers.DenseFeatures(feature_columns))\n",
    "    layers.append(tf.keras.layers.Dense(1))\n",
    "    model = tf.keras.Sequential(layers)\n",
    "    logits = model(features)\n",
    "\n",
    "    # Baseline cross-entropy loss.\n",
    "    baseline_loss_fn = tf.keras.losses.BinaryCrossentropy(from_logits=True)\n",
    "    baseline_loss = baseline_loss_fn(labels, logits)\n",
    "\n",
    "    # As a slight variant from the above previous training, we will optimize a \n",
    "    # weighted combination of Precision At Recall and the baseline loss.\n",
    "    baseline_coef = 0.2\n",
    "    \n",
    "    train_op = None\n",
    "    if mode == tf.estimator.ModeKeys.TRAIN:\n",
    "      # Set up ROC-AUC optimization problem.\n",
    "      # Create context with labels and predictions.\n",
    "      context = tfco.rate_context(logits, labels)\n",
    "\n",
    "      # Create optimization problem with Precision At Recall as the objective. The library\n",
    "      # expects a minimization objective, so we negate the Precision At Recall. We optimize\n",
    "      # a convex combination of (negative) Precision At Recall and the baseline loss (wrapped\n",
    "      # in a rate object).\n",
    "      precision_at_recall_rate = tfco.precision_at_recall(\n",
    "          context, recall_target=0.9, penalty_loss=tfco.SoftmaxCrossEntropyLoss())\n",
    "      problem = tfco.RateMinimizationProblem(\n",
    "          (1 - baseline_coef) * (-precision_at_recall_rate) + \n",
    "          baseline_coef * tfco.wrap_rate(baseline_loss))\n",
    "\n",
    "      # Create Lagrangian loss for `problem`. What we get back is a loss \n",
    "      # function, a nullary function that returns a list of update_ops that \n",
    "      # need to be run before every gradient update, and the Lagrange \n",
    "      # multipliers maintained internally by the loss.\n",
    "      # The argument `dual_scale` is a hyper-parameter that specifies the  \n",
    "      # relative importance placed on updates on the Lagrange multipliers.\n",
    "      loss_fn, update_ops_fn, multipliers = tfco.create_lagrangian_loss(\n",
    "          problem, dual_scale=1.0)\n",
    "      \n",
    "      # Set up optimizer and the list of variables to optimize the loss.\n",
    "      optimizer = tf.keras.optimizers.Adagrad(learning_rate=0.1)\n",
    "      optimizer.iterations = tf.compat.v1.train.get_or_create_global_step()\n",
    "      \n",
    "      # Get minimize op and group with update_ops.\n",
    "      var_list = (\n",
    "          model.trainable_weights + problem.trainable_variables + [multipliers])\n",
    "      minimize_op = optimizer.get_updates(loss_fn(), var_list)\n",
    "      update_ops = update_ops_fn()\n",
    "      train_op = tf.group(*update_ops, minimize_op)\n",
    "\n",
    "    # Evaluate Precision At Recall.\n",
    "    precision_at_recall_metric = tf.keras.metrics.PrecisionAtRecall(0.6)\n",
    "    precision_at_recall_metric.update_state(labels, tf.sigmoid(logits))\n",
    "\n",
    "    # We do not use the Lagrangian loss for evaluation/bookkeeping\n",
    "    # purposes as it depends on some internal variables that may not be\n",
    "    # set properly during evaluation time. We instead pass loss=baseline_loss.\n",
    "    return tf.estimator.EstimatorSpec(\n",
    "        mode=mode, \n",
    "        predictions=logits, \n",
    "        loss=baseline_loss,\n",
    "        train_op=train_op,\n",
    "        eval_metric_ops={'Precision-At-Recall': precision_at_recall_metric})\n",
    "    \n",
    "  return model_fn"
   ]
  },
  {
   "cell_type": "code",
   "execution_count": 55,
   "metadata": {},
   "outputs": [
    {
     "name": "stdout",
     "output_type": "stream",
     "text": [
      "INFO:tensorflow:Using default config.\n",
      "INFO:tensorflow:Using config: {'_model_dir': 'tfco_tmp', '_tf_random_seed': None, '_save_summary_steps': 100, '_save_checkpoints_steps': None, '_save_checkpoints_secs': 600, '_session_config': allow_soft_placement: true\n",
      "graph_options {\n",
      "  rewrite_options {\n",
      "    meta_optimizer_iterations: ONE\n",
      "  }\n",
      "}\n",
      ", '_keep_checkpoint_max': 5, '_keep_checkpoint_every_n_hours': 10000, '_log_step_count_steps': 100, '_train_distribute': None, '_device_fn': None, '_protocol': None, '_eval_distribute': None, '_experimental_distribute': None, '_experimental_max_worker_delay_secs': None, '_session_creation_timeout_secs': 7200, '_service': None, '_cluster_spec': ClusterSpec({}), '_task_type': 'worker', '_task_id': 0, '_global_id_in_cluster': 0, '_master': '', '_evaluation_master': '', '_is_chief': True, '_num_ps_replicas': 0, '_num_worker_replicas': 1}\n",
      "INFO:tensorflow:Calling model_fn.\n",
      "WARNING:tensorflow:Layers in a Sequential model should only have a single input tensor, but we receive a <class 'dict'> input: {'STATEID': <tf.Tensor 'IteratorGetNext:16' shape=(None,) dtype=float32>, 'DISTID': <tf.Tensor 'IteratorGetNext:0' shape=(None,) dtype=float32>, 'PSUID': <tf.Tensor 'IteratorGetNext:1' shape=(None,) dtype=float32>, 'SCHOOLID': <tf.Tensor 'IteratorGetNext:2' shape=(None,) dtype=float32>, 'SQGOVT': <tf.Tensor 'IteratorGetNext:3' shape=(None,) dtype=float32>, 'SS1': <tf.Tensor 'IteratorGetNext:4' shape=(None,) dtype=float32>, 'SS3': <tf.Tensor 'IteratorGetNext:9' shape=(None,) dtype=float32>, 'SS4': <tf.Tensor 'IteratorGetNext:10' shape=(None,) dtype=float32>, 'SS5': <tf.Tensor 'IteratorGetNext:11' shape=(None,) dtype=float32>, 'SS6': <tf.Tensor 'IteratorGetNext:12' shape=(None,) dtype=float32>, 'SS7': <tf.Tensor 'IteratorGetNext:13' shape=(None,) dtype=float32>, 'SS8': <tf.Tensor 'IteratorGetNext:14' shape=(None,) dtype=float32>, 'SS9': <tf.Tensor 'IteratorGetNext:15' shape=(None,) dtype=float32>, 'SS10': <tf.Tensor 'IteratorGetNext:5' shape=(None,) dtype=float32>, 'SS11': <tf.Tensor 'IteratorGetNext:6' shape=(None,) dtype=float32>, 'SS12': <tf.Tensor 'IteratorGetNext:7' shape=(None,) dtype=float32>, 'SS13': <tf.Tensor 'IteratorGetNext:8' shape=(None,) dtype=float32>}\n",
      "Consider rewriting this model with the Functional API.\n",
      "INFO:tensorflow:Done calling model_fn.\n",
      "INFO:tensorflow:Create CheckpointSaverHook.\n",
      "INFO:tensorflow:Graph was finalized.\n",
      "INFO:tensorflow:Running local_init_op.\n",
      "INFO:tensorflow:Done running local_init_op.\n",
      "INFO:tensorflow:Calling checkpoint listeners before saving checkpoint 0...\n",
      "INFO:tensorflow:Saving checkpoints for 0 into tfco_tmp/model.ckpt.\n",
      "INFO:tensorflow:Calling checkpoint listeners after saving checkpoint 0...\n",
      "INFO:tensorflow:loss = 4.867975, step = 0\n",
      "INFO:tensorflow:global_step/sec: 383.565\n",
      "INFO:tensorflow:loss = 0.297989, step = 100 (0.261 sec)\n",
      "INFO:tensorflow:global_step/sec: 924.717\n",
      "INFO:tensorflow:loss = 0.36816376, step = 200 (0.108 sec)\n",
      "INFO:tensorflow:Calling checkpoint listeners before saving checkpoint 250...\n",
      "INFO:tensorflow:Saving checkpoints for 250 into tfco_tmp/model.ckpt.\n",
      "INFO:tensorflow:Calling checkpoint listeners after saving checkpoint 250...\n",
      "INFO:tensorflow:Loss for final step: 0.49796444.\n"
     ]
    },
    {
     "data": {
      "text/plain": [
       "<tensorflow_estimator.python.estimator.estimator.EstimatorV2 at 0x7fa4249804d0>"
      ]
     },
     "execution_count": 55,
     "metadata": {},
     "output_type": "execute_result"
    }
   ],
   "source": [
    "# Create a temporary model directory.\n",
    "model_dir = \"tfco_tmp\"\n",
    "if os.path.exists(model_dir):\n",
    "  shutil.rmtree(model_dir)\n",
    "\n",
    "# Train estimator.\n",
    "estimator_lin = tf.estimator.Estimator(\n",
    "    make_model_fn_precision_at_recall(feature_columns), model_dir=model_dir)\n",
    "estimator_lin.train(train_input_fn, steps=250) "
   ]
  },
  {
   "cell_type": "code",
   "execution_count": 56,
   "metadata": {},
   "outputs": [
    {
     "name": "stdout",
     "output_type": "stream",
     "text": [
      "INFO:tensorflow:Calling model_fn.\n",
      "WARNING:tensorflow:Layers in a Sequential model should only have a single input tensor, but we receive a <class 'dict'> input: {'STATEID': <tf.Tensor 'IteratorGetNext:16' shape=(None,) dtype=float32>, 'DISTID': <tf.Tensor 'IteratorGetNext:0' shape=(None,) dtype=float32>, 'PSUID': <tf.Tensor 'IteratorGetNext:1' shape=(None,) dtype=float32>, 'SCHOOLID': <tf.Tensor 'IteratorGetNext:2' shape=(None,) dtype=float32>, 'SQGOVT': <tf.Tensor 'IteratorGetNext:3' shape=(None,) dtype=float32>, 'SS1': <tf.Tensor 'IteratorGetNext:4' shape=(None,) dtype=float32>, 'SS3': <tf.Tensor 'IteratorGetNext:9' shape=(None,) dtype=float32>, 'SS4': <tf.Tensor 'IteratorGetNext:10' shape=(None,) dtype=float32>, 'SS5': <tf.Tensor 'IteratorGetNext:11' shape=(None,) dtype=float32>, 'SS6': <tf.Tensor 'IteratorGetNext:12' shape=(None,) dtype=float32>, 'SS7': <tf.Tensor 'IteratorGetNext:13' shape=(None,) dtype=float32>, 'SS8': <tf.Tensor 'IteratorGetNext:14' shape=(None,) dtype=float32>, 'SS9': <tf.Tensor 'IteratorGetNext:15' shape=(None,) dtype=float32>, 'SS10': <tf.Tensor 'IteratorGetNext:5' shape=(None,) dtype=float32>, 'SS11': <tf.Tensor 'IteratorGetNext:6' shape=(None,) dtype=float32>, 'SS12': <tf.Tensor 'IteratorGetNext:7' shape=(None,) dtype=float32>, 'SS13': <tf.Tensor 'IteratorGetNext:8' shape=(None,) dtype=float32>}\n",
      "Consider rewriting this model with the Functional API.\n",
      "INFO:tensorflow:Done calling model_fn.\n",
      "INFO:tensorflow:Starting evaluation at 2020-10-08T11:33:37Z\n",
      "INFO:tensorflow:Graph was finalized.\n",
      "INFO:tensorflow:Restoring parameters from tfco_tmp/model.ckpt-250\n",
      "INFO:tensorflow:Running local_init_op.\n",
      "INFO:tensorflow:Done running local_init_op.\n",
      "INFO:tensorflow:Inference Time : 0.38415s\n",
      "INFO:tensorflow:Finished evaluation at 2020-10-08-11:33:37\n",
      "INFO:tensorflow:Saving dict for global step 250: Precision-At-Recall = 0.99945563, global_step = 250, loss = 0.5915339\n",
      "INFO:tensorflow:Saving 'checkpoint_path' summary for global step 250: tfco_tmp/model.ckpt-250\n"
     ]
    },
    {
     "data": {
      "text/plain": [
       "{'Precision-At-Recall': 0.99945563, 'loss': 0.5915339, 'global_step': 250}"
      ]
     },
     "execution_count": 56,
     "metadata": {},
     "output_type": "execute_result"
    }
   ],
   "source": [
    "estimator_lin.evaluate(test_input_fn)"
   ]
  },
  {
   "cell_type": "markdown",
   "metadata": {},
   "source": [
    "## (2d) Recall_At_Precision Training with Custom Estimators"
   ]
  },
  {
   "cell_type": "code",
   "execution_count": 57,
   "metadata": {},
   "outputs": [],
   "source": [
    "def make_model_fn_recall_at_precision(feature_columns):\n",
    "  # Returns model_fn.\n",
    "\n",
    "  def model_fn(features, labels, mode):\n",
    "    # Create model from features.\n",
    "    layers = []\n",
    "    layers.append(tf.keras.layers.DenseFeatures(feature_columns))\n",
    "    layers.append(tf.keras.layers.Dense(1))\n",
    "    model = tf.keras.Sequential(layers)\n",
    "    logits = model(features)\n",
    "\n",
    "    # Baseline cross-entropy loss.\n",
    "    baseline_loss_fn = tf.keras.losses.BinaryCrossentropy(from_logits=True)\n",
    "    baseline_loss = baseline_loss_fn(labels, logits)\n",
    "\n",
    "    # As a slight variant from the above previous training, we will optimize a \n",
    "    # weighted combination of Precision At Recall and the baseline loss.\n",
    "    baseline_coef = 0.2\n",
    "    \n",
    "    train_op = None\n",
    "    if mode == tf.estimator.ModeKeys.TRAIN:\n",
    "      # Set up ROC-AUC optimization problem.\n",
    "      # Create context with labels and predictions.\n",
    "      context = tfco.rate_context(logits, labels)\n",
    "\n",
    "      # Create optimization problem with Recall-At-Precision as the objective. The library\n",
    "      # expects a minimization objective, so we negate the Recall-At-Precision. We optimize\n",
    "      # a convex combination of (negative) Recall-At-Precision and the baseline loss (wrapped\n",
    "      # in a rate object).\n",
    "      recall_at_precision_rate = tfco.recall_at_precision(\n",
    "          context, precision_target=0.9, penalty_loss=tfco.SoftmaxCrossEntropyLoss())\n",
    "      problem = tfco.RateMinimizationProblem(\n",
    "          (1 - baseline_coef) * (-recall_at_precision_rate) + \n",
    "          baseline_coef * tfco.wrap_rate(baseline_loss))\n",
    "\n",
    "      # Create Lagrangian loss for `problem`. What we get back is a loss \n",
    "      # function, a nullary function that returns a list of update_ops that \n",
    "      # need to be run before every gradient update, and the Lagrange \n",
    "      # multipliers maintained internally by the loss.\n",
    "      # The argument `dual_scale` is a hyper-parameter that specifies the  \n",
    "      # relative importance placed on updates on the Lagrange multipliers.\n",
    "      loss_fn, update_ops_fn, multipliers = tfco.create_lagrangian_loss(\n",
    "          problem, dual_scale=1.0)\n",
    "      \n",
    "      # Set up optimizer and the list of variables to optimize the loss.\n",
    "      optimizer = tf.keras.optimizers.Adagrad(learning_rate=0.1)\n",
    "      optimizer.iterations = tf.compat.v1.train.get_or_create_global_step()\n",
    "      \n",
    "      # Get minimize op and group with update_ops.\n",
    "      var_list = (\n",
    "          model.trainable_weights + problem.trainable_variables + [multipliers])\n",
    "      minimize_op = optimizer.get_updates(loss_fn(), var_list)\n",
    "      update_ops = update_ops_fn()\n",
    "      train_op = tf.group(*update_ops, minimize_op)\n",
    "\n",
    "    # Evaluate Recall At Precision.\n",
    "    recall_at_precision_metric = tf.keras.metrics.RecallAtPrecision(0.6)\n",
    "    recall_at_precision_metric.update_state(labels, tf.sigmoid(logits))\n",
    "\n",
    "    # We do not use the Lagrangian loss for evaluation/bookkeeping\n",
    "    # purposes as it depends on some internal variables that may not be\n",
    "    # set properly during evaluation time. We instead pass loss=baseline_loss.\n",
    "    return tf.estimator.EstimatorSpec(\n",
    "        mode=mode, \n",
    "        predictions=logits, \n",
    "        loss=baseline_loss,\n",
    "        train_op=train_op,\n",
    "        eval_metric_ops={'Recall-At-Precision': recall_at_precision_metric})\n",
    "    \n",
    "  return model_fn"
   ]
  },
  {
   "cell_type": "code",
   "execution_count": 58,
   "metadata": {},
   "outputs": [
    {
     "name": "stdout",
     "output_type": "stream",
     "text": [
      "INFO:tensorflow:Using default config.\n",
      "INFO:tensorflow:Using config: {'_model_dir': 'tfco_tmp', '_tf_random_seed': None, '_save_summary_steps': 100, '_save_checkpoints_steps': None, '_save_checkpoints_secs': 600, '_session_config': allow_soft_placement: true\n",
      "graph_options {\n",
      "  rewrite_options {\n",
      "    meta_optimizer_iterations: ONE\n",
      "  }\n",
      "}\n",
      ", '_keep_checkpoint_max': 5, '_keep_checkpoint_every_n_hours': 10000, '_log_step_count_steps': 100, '_train_distribute': None, '_device_fn': None, '_protocol': None, '_eval_distribute': None, '_experimental_distribute': None, '_experimental_max_worker_delay_secs': None, '_session_creation_timeout_secs': 7200, '_service': None, '_cluster_spec': ClusterSpec({}), '_task_type': 'worker', '_task_id': 0, '_global_id_in_cluster': 0, '_master': '', '_evaluation_master': '', '_is_chief': True, '_num_ps_replicas': 0, '_num_worker_replicas': 1}\n",
      "INFO:tensorflow:Calling model_fn.\n",
      "WARNING:tensorflow:Layers in a Sequential model should only have a single input tensor, but we receive a <class 'dict'> input: {'STATEID': <tf.Tensor 'IteratorGetNext:16' shape=(None,) dtype=float32>, 'DISTID': <tf.Tensor 'IteratorGetNext:0' shape=(None,) dtype=float32>, 'PSUID': <tf.Tensor 'IteratorGetNext:1' shape=(None,) dtype=float32>, 'SCHOOLID': <tf.Tensor 'IteratorGetNext:2' shape=(None,) dtype=float32>, 'SQGOVT': <tf.Tensor 'IteratorGetNext:3' shape=(None,) dtype=float32>, 'SS1': <tf.Tensor 'IteratorGetNext:4' shape=(None,) dtype=float32>, 'SS3': <tf.Tensor 'IteratorGetNext:9' shape=(None,) dtype=float32>, 'SS4': <tf.Tensor 'IteratorGetNext:10' shape=(None,) dtype=float32>, 'SS5': <tf.Tensor 'IteratorGetNext:11' shape=(None,) dtype=float32>, 'SS6': <tf.Tensor 'IteratorGetNext:12' shape=(None,) dtype=float32>, 'SS7': <tf.Tensor 'IteratorGetNext:13' shape=(None,) dtype=float32>, 'SS8': <tf.Tensor 'IteratorGetNext:14' shape=(None,) dtype=float32>, 'SS9': <tf.Tensor 'IteratorGetNext:15' shape=(None,) dtype=float32>, 'SS10': <tf.Tensor 'IteratorGetNext:5' shape=(None,) dtype=float32>, 'SS11': <tf.Tensor 'IteratorGetNext:6' shape=(None,) dtype=float32>, 'SS12': <tf.Tensor 'IteratorGetNext:7' shape=(None,) dtype=float32>, 'SS13': <tf.Tensor 'IteratorGetNext:8' shape=(None,) dtype=float32>}\n",
      "Consider rewriting this model with the Functional API.\n",
      "INFO:tensorflow:Done calling model_fn.\n",
      "INFO:tensorflow:Create CheckpointSaverHook.\n",
      "INFO:tensorflow:Graph was finalized.\n",
      "INFO:tensorflow:Running local_init_op.\n",
      "INFO:tensorflow:Done running local_init_op.\n",
      "INFO:tensorflow:Calling checkpoint listeners before saving checkpoint 0...\n",
      "INFO:tensorflow:Saving checkpoints for 0 into tfco_tmp/model.ckpt.\n",
      "INFO:tensorflow:Calling checkpoint listeners after saving checkpoint 0...\n",
      "INFO:tensorflow:loss = 1.8522432, step = 0\n",
      "INFO:tensorflow:global_step/sec: 375.598\n",
      "INFO:tensorflow:loss = 0.25577545, step = 100 (0.267 sec)\n",
      "INFO:tensorflow:global_step/sec: 958.939\n",
      "INFO:tensorflow:loss = 0.21658714, step = 200 (0.104 sec)\n",
      "INFO:tensorflow:Calling checkpoint listeners before saving checkpoint 250...\n",
      "INFO:tensorflow:Saving checkpoints for 250 into tfco_tmp/model.ckpt.\n",
      "INFO:tensorflow:Calling checkpoint listeners after saving checkpoint 250...\n",
      "INFO:tensorflow:Loss for final step: 0.20634533.\n"
     ]
    },
    {
     "data": {
      "text/plain": [
       "<tensorflow_estimator.python.estimator.estimator.EstimatorV2 at 0x7fa41239e190>"
      ]
     },
     "execution_count": 58,
     "metadata": {},
     "output_type": "execute_result"
    }
   ],
   "source": [
    "# Create a temporary model directory.\n",
    "model_dir = \"tfco_tmp\"\n",
    "if os.path.exists(model_dir):\n",
    "  shutil.rmtree(model_dir)\n",
    "\n",
    "# Train estimator.\n",
    "estimator_lin = tf.estimator.Estimator(\n",
    "    make_model_fn_recall_at_precision(feature_columns), model_dir=model_dir)\n",
    "estimator_lin.train(train_input_fn, steps=250) "
   ]
  },
  {
   "cell_type": "code",
   "execution_count": 59,
   "metadata": {},
   "outputs": [
    {
     "name": "stdout",
     "output_type": "stream",
     "text": [
      "INFO:tensorflow:Calling model_fn.\n",
      "WARNING:tensorflow:Layers in a Sequential model should only have a single input tensor, but we receive a <class 'dict'> input: {'STATEID': <tf.Tensor 'IteratorGetNext:16' shape=(None,) dtype=float32>, 'DISTID': <tf.Tensor 'IteratorGetNext:0' shape=(None,) dtype=float32>, 'PSUID': <tf.Tensor 'IteratorGetNext:1' shape=(None,) dtype=float32>, 'SCHOOLID': <tf.Tensor 'IteratorGetNext:2' shape=(None,) dtype=float32>, 'SQGOVT': <tf.Tensor 'IteratorGetNext:3' shape=(None,) dtype=float32>, 'SS1': <tf.Tensor 'IteratorGetNext:4' shape=(None,) dtype=float32>, 'SS3': <tf.Tensor 'IteratorGetNext:9' shape=(None,) dtype=float32>, 'SS4': <tf.Tensor 'IteratorGetNext:10' shape=(None,) dtype=float32>, 'SS5': <tf.Tensor 'IteratorGetNext:11' shape=(None,) dtype=float32>, 'SS6': <tf.Tensor 'IteratorGetNext:12' shape=(None,) dtype=float32>, 'SS7': <tf.Tensor 'IteratorGetNext:13' shape=(None,) dtype=float32>, 'SS8': <tf.Tensor 'IteratorGetNext:14' shape=(None,) dtype=float32>, 'SS9': <tf.Tensor 'IteratorGetNext:15' shape=(None,) dtype=float32>, 'SS10': <tf.Tensor 'IteratorGetNext:5' shape=(None,) dtype=float32>, 'SS11': <tf.Tensor 'IteratorGetNext:6' shape=(None,) dtype=float32>, 'SS12': <tf.Tensor 'IteratorGetNext:7' shape=(None,) dtype=float32>, 'SS13': <tf.Tensor 'IteratorGetNext:8' shape=(None,) dtype=float32>}\n",
      "Consider rewriting this model with the Functional API.\n",
      "INFO:tensorflow:Done calling model_fn.\n",
      "INFO:tensorflow:Starting evaluation at 2020-10-08T11:33:40Z\n",
      "INFO:tensorflow:Graph was finalized.\n",
      "INFO:tensorflow:Restoring parameters from tfco_tmp/model.ckpt-250\n",
      "INFO:tensorflow:Running local_init_op.\n",
      "INFO:tensorflow:Done running local_init_op.\n",
      "INFO:tensorflow:Inference Time : 0.35913s\n",
      "INFO:tensorflow:Finished evaluation at 2020-10-08-11:33:40\n",
      "INFO:tensorflow:Saving dict for global step 250: Recall-At-Precision = 1.0, global_step = 250, loss = 0.19825907\n",
      "INFO:tensorflow:Saving 'checkpoint_path' summary for global step 250: tfco_tmp/model.ckpt-250\n"
     ]
    },
    {
     "data": {
      "text/plain": [
       "{'Recall-At-Precision': 1.0, 'loss': 0.19825907, 'global_step': 250}"
      ]
     },
     "execution_count": 59,
     "metadata": {},
     "output_type": "execute_result"
    }
   ],
   "source": [
    "estimator_lin.evaluate(test_input_fn)"
   ]
  }
 ],
 "metadata": {
  "colab": {
   "collapsed_sections": [],
   "name": "PRAUC_training.ipynb",
   "provenance": []
  },
  "kernelspec": {
   "display_name": "Python 3",
   "language": "python",
   "name": "python3"
  },
  "language_info": {
   "codemirror_mode": {
    "name": "ipython",
    "version": 3
   },
   "file_extension": ".py",
   "mimetype": "text/x-python",
   "name": "python",
   "nbconvert_exporter": "python",
   "pygments_lexer": "ipython3",
   "version": "3.7.7"
  }
 },
 "nbformat": 4,
 "nbformat_minor": 1
}
